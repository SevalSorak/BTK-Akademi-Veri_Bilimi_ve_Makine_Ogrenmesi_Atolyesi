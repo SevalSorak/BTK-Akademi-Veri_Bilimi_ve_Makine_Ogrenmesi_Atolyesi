{
 "cells": [
  {
   "cell_type": "code",
   "execution_count": 0,
   "metadata": {
    "application/vnd.databricks.v1+cell": {
     "inputWidgets": {},
     "nuid": "a140a7a8-87d3-4595-b83f-6d768a77652c",
     "showTitle": false,
     "title": ""
    }
   },
   "outputs": [],
   "source": [
    "from pyspark.sql import SparkSession\n",
    "from pyspark.sql.functions import *"
   ]
  },
  {
   "cell_type": "code",
   "execution_count": 0,
   "metadata": {
    "application/vnd.databricks.v1+cell": {
     "inputWidgets": {},
     "nuid": "beea1ab5-57d9-400b-9d89-8624aeded067",
     "showTitle": false,
     "title": ""
    }
   },
   "outputs": [],
   "source": [
    "sparkSession = SparkSession.builder.appName(\"Market Sales Spark Analysis\").getOrCreate()"
   ]
  },
  {
   "cell_type": "code",
   "execution_count": 0,
   "metadata": {
    "application/vnd.databricks.v1+cell": {
     "inputWidgets": {},
     "nuid": "d17b2cb7-5872-45c4-b0a3-e6e3cf38b492",
     "showTitle": false,
     "title": ""
    }
   },
   "outputs": [
    {
     "data": {
      "text/html": [
       "\n",
       "            <div>\n",
       "                <p><b>SparkSession - hive</b></p>\n",
       "                \n",
       "        <div>\n",
       "            <p><b>SparkContext</b></p>\n",
       "\n",
       "            <p><a href=\"/?o=2695144408936499#setting/sparkui/0215-074238-zcxmbtrg/driver-5676951123950000463\">Spark UI</a></p>\n",
       "\n",
       "            <dl>\n",
       "              <dt>Version</dt>\n",
       "                <dd><code>v3.1.2</code></dd>\n",
       "              <dt>Master</dt>\n",
       "                <dd><code>local[8]</code></dd>\n",
       "              <dt>AppName</dt>\n",
       "                <dd><code>Databricks Shell</code></dd>\n",
       "            </dl>\n",
       "        </div>\n",
       "        \n",
       "            </div>\n",
       "        "
      ]
     },
     "metadata": {
      "application/vnd.databricks.v1+output": {
       "addedWidgets": {},
       "arguments": {},
       "data": "\n            <div>\n                <p><b>SparkSession - hive</b></p>\n                \n        <div>\n            <p><b>SparkContext</b></p>\n\n            <p><a href=\"/?o=2695144408936499#setting/sparkui/0215-074238-zcxmbtrg/driver-5676951123950000463\">Spark UI</a></p>\n\n            <dl>\n              <dt>Version</dt>\n                <dd><code>v3.1.2</code></dd>\n              <dt>Master</dt>\n                <dd><code>local[8]</code></dd>\n              <dt>AppName</dt>\n                <dd><code>Databricks Shell</code></dd>\n            </dl>\n        </div>\n        \n            </div>\n        ",
       "datasetInfos": [],
       "metadata": {},
       "removedWidgets": [],
       "textData": null,
       "type": "htmlSandbox"
      }
     },
     "output_type": "display_data"
    }
   ],
   "source": [
    "sparkSession"
   ]
  },
  {
   "cell_type": "code",
   "execution_count": 0,
   "metadata": {
    "application/vnd.databricks.v1+cell": {
     "inputWidgets": {},
     "nuid": "c7d6f19c-860e-4221-a28f-45a792b947a5",
     "showTitle": false,
     "title": ""
    }
   },
   "outputs": [],
   "source": [
    "rawDF = sparkSession.read.option(\"delimiter\",\";\").csv('/FileStore/tables/MarketSales.csv',header=True,inferSchema=True).drop('SALESMAN','CLIENTNAME')"
   ]
  },
  {
   "cell_type": "code",
   "execution_count": 0,
   "metadata": {
    "application/vnd.databricks.v1+cell": {
     "inputWidgets": {},
     "nuid": "8b055d38-afb4-4b9a-be8b-7212e773369d",
     "showTitle": false,
     "title": ""
    }
   },
   "outputs": [
    {
     "data": {
      "text/plain": [
       "root\n",
       " |-- ID: string (nullable = true)\n",
       " |-- ITEMNAME: string (nullable = true)\n",
       " |-- DATE_: string (nullable = true)\n",
       " |-- AMOUNT: double (nullable = true)\n",
       " |-- PRICE: double (nullable = true)\n",
       " |-- LINENETTOTAL: double (nullable = true)\n",
       " |-- BRANCHNR: integer (nullable = true)\n",
       " |-- BRANCH: string (nullable = true)\n",
       " |-- CITY: string (nullable = true)\n",
       " |-- REGION: string (nullable = true)\n",
       " |-- CLIENTCODE: string (nullable = true)\n",
       " |-- BRANDCODE: string (nullable = true)\n",
       " |-- BRAND: string (nullable = true)\n",
       " |-- CATEGORY_NAME1: string (nullable = true)\n",
       " |-- CATEGORY_NAME2: string (nullable = true)\n",
       " |-- CATEGORY_NAME3: string (nullable = true)\n",
       " |-- STARTDATE: string (nullable = true)\n",
       " |-- ENDDATE: string (nullable = true)\n",
       " |-- GENDER: string (nullable = true)\n",
       "\n"
      ]
     },
     "metadata": {
      "application/vnd.databricks.v1+output": {
       "addedWidgets": {},
       "arguments": {},
       "data": "root\n |-- ID: string (nullable = true)\n |-- ITEMNAME: string (nullable = true)\n |-- DATE_: string (nullable = true)\n |-- AMOUNT: double (nullable = true)\n |-- PRICE: double (nullable = true)\n |-- LINENETTOTAL: double (nullable = true)\n |-- BRANCHNR: integer (nullable = true)\n |-- BRANCH: string (nullable = true)\n |-- CITY: string (nullable = true)\n |-- REGION: string (nullable = true)\n |-- CLIENTCODE: string (nullable = true)\n |-- BRANDCODE: string (nullable = true)\n |-- BRAND: string (nullable = true)\n |-- CATEGORY_NAME1: string (nullable = true)\n |-- CATEGORY_NAME2: string (nullable = true)\n |-- CATEGORY_NAME3: string (nullable = true)\n |-- STARTDATE: string (nullable = true)\n |-- ENDDATE: string (nullable = true)\n |-- GENDER: string (nullable = true)\n\n",
       "datasetInfos": [],
       "metadata": {},
       "removedWidgets": [],
       "type": "ansi"
      }
     },
     "output_type": "display_data"
    }
   ],
   "source": [
    "rawDF.printSchema()"
   ]
  },
  {
   "cell_type": "code",
   "execution_count": 0,
   "metadata": {
    "application/vnd.databricks.v1+cell": {
     "inputWidgets": {},
     "nuid": "98ff0158-b773-4f50-9452-4bc6be73fd1a",
     "showTitle": false,
     "title": ""
    }
   },
   "outputs": [
    {
     "data": {
      "text/plain": [
       "+-------+--------------------+--------------------+--------------+------------------+-----------------+-----------------+------------------+-------------+------+----------+------------------+------------------+----------+--------------+---------------+-----------------+--------------+--------------+------+\n",
       "|summary|                  ID|            ITEMNAME|         DATE_|            AMOUNT|            PRICE|     LINENETTOTAL|          BRANCHNR|       BRANCH|  CITY|    REGION|        CLIENTCODE|         BRANDCODE|     BRAND|CATEGORY_NAME1| CATEGORY_NAME2|   CATEGORY_NAME3|     STARTDATE|       ENDDATE|GENDER|\n",
       "+-------+--------------------+--------------------+--------------+------------------+-----------------+-----------------+------------------+-------------+------+----------+------------------+------------------+----------+--------------+---------------+-----------------+--------------+--------------+------+\n",
       "|  count|              611115|              603941|        611099|            611099|           611099|           611099|            611099|       611099|611099|    611099|            592752|            575543|    575543|        603933|         583440|           401643|        611100|        611100|592735|\n",
       "|   mean|   306846.2916641439|                null|          null| 1.270207542476749|3.959491260827359| 4.05565945943332| 39.20164163253417|         null|  null|      null|510501.26827334304|142.66605404064418|      null|          null|           null|             null|          null|          null|  null|\n",
       "| stddev|   181259.6857125472|                null|          null|1.9953139983230577|6.683080725148242|11.95612107715333|21.827232654862016|         null|  null|      null| 337215.2970231874| 90.77806800282771|      null|          null|           null|             null|          null|          null|  null|\n",
       "|    min|                   1|8*4 150 ML DEO D�...|01/02/17 00:00|             0.001|             0.01|             0.01|                 1| Adana Subesi| Adana|   Akdeniz|                 1|                 1|  F BAKTAT|         BEBEK|     A�IZ BAKIM|AH�AP TEM�ZLEY�C�|01/02/17 08:33|01/02/17 08:33|     E|\n",
       "|    max|;31/03/17 00:00;1...|ZENNE TRASLI KAHV...|31/03/17 00:00|             502.0|           1799.0|           4278.0|                81|��rnak Subesi|��rnak|�� Anadolu|                 �|               A25|���M SEHER|        ��ECEK|��KOLATA GOFRET|       �� �AMA�IR|31/03/17 21:00|31/03/17 21:01|     K|\n",
       "+-------+--------------------+--------------------+--------------+------------------+-----------------+-----------------+------------------+-------------+------+----------+------------------+------------------+----------+--------------+---------------+-----------------+--------------+--------------+------+\n",
       "\n"
      ]
     },
     "metadata": {
      "application/vnd.databricks.v1+output": {
       "addedWidgets": {},
       "arguments": {},
       "data": "+-------+--------------------+--------------------+--------------+------------------+-----------------+-----------------+------------------+-------------+------+----------+------------------+------------------+----------+--------------+---------------+-----------------+--------------+--------------+------+\n|summary|                  ID|            ITEMNAME|         DATE_|            AMOUNT|            PRICE|     LINENETTOTAL|          BRANCHNR|       BRANCH|  CITY|    REGION|        CLIENTCODE|         BRANDCODE|     BRAND|CATEGORY_NAME1| CATEGORY_NAME2|   CATEGORY_NAME3|     STARTDATE|       ENDDATE|GENDER|\n+-------+--------------------+--------------------+--------------+------------------+-----------------+-----------------+------------------+-------------+------+----------+------------------+------------------+----------+--------------+---------------+-----------------+--------------+--------------+------+\n|  count|              611115|              603941|        611099|            611099|           611099|           611099|            611099|       611099|611099|    611099|            592752|            575543|    575543|        603933|         583440|           401643|        611100|        611100|592735|\n|   mean|   306846.2916641439|                null|          null| 1.270207542476749|3.959491260827359| 4.05565945943332| 39.20164163253417|         null|  null|      null|510501.26827334304|142.66605404064418|      null|          null|           null|             null|          null|          null|  null|\n| stddev|   181259.6857125472|                null|          null|1.9953139983230577|6.683080725148242|11.95612107715333|21.827232654862016|         null|  null|      null| 337215.2970231874| 90.77806800282771|      null|          null|           null|             null|          null|          null|  null|\n|    min|                   1|8*4 150 ML DEO D�...|01/02/17 00:00|             0.001|             0.01|             0.01|                 1| Adana Subesi| Adana|   Akdeniz|                 1|                 1|  F BAKTAT|         BEBEK|     A�IZ BAKIM|AH�AP TEM�ZLEY�C�|01/02/17 08:33|01/02/17 08:33|     E|\n|    max|;31/03/17 00:00;1...|ZENNE TRASLI KAHV...|31/03/17 00:00|             502.0|           1799.0|           4278.0|                81|��rnak Subesi|��rnak|�� Anadolu|                 �|               A25|���M SEHER|        ��ECEK|��KOLATA GOFRET|       �� �AMA�IR|31/03/17 21:00|31/03/17 21:01|     K|\n+-------+--------------------+--------------------+--------------+------------------+-----------------+-----------------+------------------+-------------+------+----------+------------------+------------------+----------+--------------+---------------+-----------------+--------------+--------------+------+\n\n",
       "datasetInfos": [],
       "metadata": {},
       "removedWidgets": [],
       "type": "ansi"
      }
     },
     "output_type": "display_data"
    }
   ],
   "source": [
    "rawDF.describe().show()"
   ]
  },
  {
   "cell_type": "code",
   "execution_count": 0,
   "metadata": {
    "application/vnd.databricks.v1+cell": {
     "inputWidgets": {},
     "nuid": "712c22ef-5638-4ab0-b133-0c8beab3912e",
     "showTitle": false,
     "title": ""
    }
   },
   "outputs": [
    {
     "data": {
      "text/plain": [
       "root\n",
       " |-- ID: string (nullable = true)\n",
       " |-- ITEMNAME: string (nullable = true)\n",
       " |-- DATE_: string (nullable = true)\n",
       " |-- AMOUNT: double (nullable = true)\n",
       " |-- PRICE: double (nullable = true)\n",
       " |-- LINENETTOTAL: double (nullable = true)\n",
       " |-- BRANCHNR: integer (nullable = true)\n",
       " |-- BRANCH: string (nullable = true)\n",
       " |-- CITY: string (nullable = true)\n",
       " |-- REGION: string (nullable = true)\n",
       " |-- CLIENTCODE: string (nullable = true)\n",
       " |-- BRANDCODE: string (nullable = true)\n",
       " |-- BRAND: string (nullable = true)\n",
       " |-- CATEGORY_NAME1: string (nullable = true)\n",
       " |-- CATEGORY_NAME2: string (nullable = true)\n",
       " |-- CATEGORY_NAME3: string (nullable = true)\n",
       " |-- STARTDATE: string (nullable = true)\n",
       " |-- ENDDATE: string (nullable = true)\n",
       " |-- GENDER: string (nullable = true)\n",
       "\n"
      ]
     },
     "metadata": {
      "application/vnd.databricks.v1+output": {
       "addedWidgets": {},
       "arguments": {},
       "data": "root\n |-- ID: string (nullable = true)\n |-- ITEMNAME: string (nullable = true)\n |-- DATE_: string (nullable = true)\n |-- AMOUNT: double (nullable = true)\n |-- PRICE: double (nullable = true)\n |-- LINENETTOTAL: double (nullable = true)\n |-- BRANCHNR: integer (nullable = true)\n |-- BRANCH: string (nullable = true)\n |-- CITY: string (nullable = true)\n |-- REGION: string (nullable = true)\n |-- CLIENTCODE: string (nullable = true)\n |-- BRANDCODE: string (nullable = true)\n |-- BRAND: string (nullable = true)\n |-- CATEGORY_NAME1: string (nullable = true)\n |-- CATEGORY_NAME2: string (nullable = true)\n |-- CATEGORY_NAME3: string (nullable = true)\n |-- STARTDATE: string (nullable = true)\n |-- ENDDATE: string (nullable = true)\n |-- GENDER: string (nullable = true)\n\n",
       "datasetInfos": [],
       "metadata": {},
       "removedWidgets": [],
       "type": "ansi"
      }
     },
     "output_type": "display_data"
    }
   ],
   "source": [
    "rawDF.printSchema()"
   ]
  },
  {
   "cell_type": "code",
   "execution_count": 0,
   "metadata": {
    "application/vnd.databricks.v1+cell": {
     "inputWidgets": {},
     "nuid": "67e0fe4e-62cc-4805-9ba4-a5cbdb6b0ba0",
     "showTitle": false,
     "title": ""
    }
   },
   "outputs": [],
   "source": [
    "selectDF = rawDF.select('ITEMNAME','AMOUNT','PRICE','LINENETTOTAL','BRANCH')"
   ]
  },
  {
   "cell_type": "code",
   "execution_count": 0,
   "metadata": {
    "application/vnd.databricks.v1+cell": {
     "inputWidgets": {},
     "nuid": "088bd8bb-0370-4fad-92bd-85a92aa5e3be",
     "showTitle": false,
     "title": ""
    }
   },
   "outputs": [
    {
     "data": {
      "text/plain": [
       "+--------------------+------+-----+------------+----------------+\n",
       "|            ITEMNAME|AMOUNT|PRICE|LINENETTOTAL|          BRANCH|\n",
       "+--------------------+------+-----+------------+----------------+\n",
       "|SPRITE 1 LT LIMON...|   1.0|  2.0|         2.0|  Kocaeli Subesi|\n",
       "|           TOZ SEKER|   5.0| 2.65|       13.25|  Antalya Subesi|\n",
       "|FALIM SAKIZ 5LI NANE|   1.0|  0.4|         0.4| �stanbul Subesi|\n",
       "|FALIM SAKIZ 5LI NANE|   1.0|  0.4|         0.4| �stanbul Subesi|\n",
       "|FALIM SAKIZ 5LI C...|   1.0|  0.4|         0.4|    �zmir Subesi|\n",
       "|           TOZ SEKER|   2.0| 2.65|         5.3|   Elaz�� Subesi|\n",
       "|F NEFFIS TOZ SEKE...|   1.0|  5.6|         5.6|  Malatya Subesi|\n",
       "|           TOZ SEKER|   2.0| 2.65|         5.3| �stanbul Subesi|\n",
       "|           TOZ SEKER|   2.0| 2.65|         5.3|   Manisa Subesi|\n",
       "|F NEFFIS KESME SE...|   1.0| 2.85|        2.85|    Mu�la Subesi|\n",
       "|KENT TOPITOP DISN...|   1.0|  1.6|         1.6|      Mu� Subesi|\n",
       "|VIVIDENT CZD FRUI...|   1.0| 1.95|        1.95|    Adana Subesi|\n",
       "|LAVACHE QUIRIT UC...|   1.0| 3.45|        3.45|  Sakarya Subesi|\n",
       "|       KIRMIZI BIBER| 0.235| 4.95|        1.16|Zonguldak Subesi|\n",
       "|        CERI DOMATES|  0.76| 4.75|        3.61|Zonguldak Subesi|\n",
       "|      SALKIM DOMATES| 0.945|  5.2|        4.91|Bal�kesir Subesi|\n",
       "|             PATATES|  2.79| 2.45|        6.84|Bal�kesir Subesi|\n",
       "|      SALKIM DOMATES| 0.745|  5.2|        3.87|K�r�kkale Subesi|\n",
       "|             PATATES| 1.235| 2.45|        3.03|Gaziantep Subesi|\n",
       "|MAGGI CORBA KREMA...|   1.0| 0.85|        0.85|Gaziantep Subesi|\n",
       "+--------------------+------+-----+------------+----------------+\n",
       "only showing top 20 rows\n",
       "\n"
      ]
     },
     "metadata": {
      "application/vnd.databricks.v1+output": {
       "addedWidgets": {},
       "arguments": {},
       "data": "+--------------------+------+-----+------------+----------------+\n|            ITEMNAME|AMOUNT|PRICE|LINENETTOTAL|          BRANCH|\n+--------------------+------+-----+------------+----------------+\n|SPRITE 1 LT LIMON...|   1.0|  2.0|         2.0|  Kocaeli Subesi|\n|           TOZ SEKER|   5.0| 2.65|       13.25|  Antalya Subesi|\n|FALIM SAKIZ 5LI NANE|   1.0|  0.4|         0.4| �stanbul Subesi|\n|FALIM SAKIZ 5LI NANE|   1.0|  0.4|         0.4| �stanbul Subesi|\n|FALIM SAKIZ 5LI C...|   1.0|  0.4|         0.4|    �zmir Subesi|\n|           TOZ SEKER|   2.0| 2.65|         5.3|   Elaz�� Subesi|\n|F NEFFIS TOZ SEKE...|   1.0|  5.6|         5.6|  Malatya Subesi|\n|           TOZ SEKER|   2.0| 2.65|         5.3| �stanbul Subesi|\n|           TOZ SEKER|   2.0| 2.65|         5.3|   Manisa Subesi|\n|F NEFFIS KESME SE...|   1.0| 2.85|        2.85|    Mu�la Subesi|\n|KENT TOPITOP DISN...|   1.0|  1.6|         1.6|      Mu� Subesi|\n|VIVIDENT CZD FRUI...|   1.0| 1.95|        1.95|    Adana Subesi|\n|LAVACHE QUIRIT UC...|   1.0| 3.45|        3.45|  Sakarya Subesi|\n|       KIRMIZI BIBER| 0.235| 4.95|        1.16|Zonguldak Subesi|\n|        CERI DOMATES|  0.76| 4.75|        3.61|Zonguldak Subesi|\n|      SALKIM DOMATES| 0.945|  5.2|        4.91|Bal�kesir Subesi|\n|             PATATES|  2.79| 2.45|        6.84|Bal�kesir Subesi|\n|      SALKIM DOMATES| 0.745|  5.2|        3.87|K�r�kkale Subesi|\n|             PATATES| 1.235| 2.45|        3.03|Gaziantep Subesi|\n|MAGGI CORBA KREMA...|   1.0| 0.85|        0.85|Gaziantep Subesi|\n+--------------------+------+-----+------------+----------------+\nonly showing top 20 rows\n\n",
       "datasetInfos": [],
       "metadata": {},
       "removedWidgets": [],
       "type": "ansi"
      }
     },
     "output_type": "display_data"
    }
   ],
   "source": [
    "selectDF.show()"
   ]
  },
  {
   "cell_type": "code",
   "execution_count": 0,
   "metadata": {
    "application/vnd.databricks.v1+cell": {
     "inputWidgets": {},
     "nuid": "905fd95c-9816-430f-a4c7-b99d1408d780",
     "showTitle": false,
     "title": ""
    }
   },
   "outputs": [
    {
     "data": {
      "text/plain": [
       "+------------------+\n",
       "| sum(LINENETTOTAL)|\n",
       "+------------------+\n",
       "|2478409.4400002426|\n",
       "+------------------+\n",
       "\n"
      ]
     },
     "metadata": {
      "application/vnd.databricks.v1+output": {
       "addedWidgets": {},
       "arguments": {},
       "data": "+------------------+\n| sum(LINENETTOTAL)|\n+------------------+\n|2478409.4400002426|\n+------------------+\n\n",
       "datasetInfos": [],
       "metadata": {},
       "removedWidgets": [],
       "type": "ansi"
      }
     },
     "output_type": "display_data"
    }
   ],
   "source": [
    "selectDF.agg({'LINENETTOTAL':'sum'}).show()"
   ]
  },
  {
   "cell_type": "code",
   "execution_count": 0,
   "metadata": {
    "application/vnd.databricks.v1+cell": {
     "inputWidgets": {},
     "nuid": "a69e4e7e-b2f1-4c83-9a52-bc0d6a13b77b",
     "showTitle": false,
     "title": ""
    }
   },
   "outputs": [
    {
     "data": {
      "text/plain": [
       "+-----------------+\n",
       "|max(LINENETTOTAL)|\n",
       "+-----------------+\n",
       "|           4278.0|\n",
       "+-----------------+\n",
       "\n"
      ]
     },
     "metadata": {
      "application/vnd.databricks.v1+output": {
       "addedWidgets": {},
       "arguments": {},
       "data": "+-----------------+\n|max(LINENETTOTAL)|\n+-----------------+\n|           4278.0|\n+-----------------+\n\n",
       "datasetInfos": [],
       "metadata": {},
       "removedWidgets": [],
       "type": "ansi"
      }
     },
     "output_type": "display_data"
    }
   ],
   "source": [
    "selectDF.agg({'LINENETTOTAL':'max'}).show()"
   ]
  },
  {
   "cell_type": "code",
   "execution_count": 0,
   "metadata": {
    "application/vnd.databricks.v1+cell": {
     "inputWidgets": {},
     "nuid": "81a5ef6e-d855-48fb-be4e-7b3a553228d3",
     "showTitle": false,
     "title": ""
    }
   },
   "outputs": [],
   "source": [
    "sumTotalByBranchDF = selectDF.groupBy('BRANCH').sum('LINENETTOTAL').orderBy('sum(LINENETTOTAL)',ascending=False)"
   ]
  },
  {
   "cell_type": "code",
   "execution_count": 0,
   "metadata": {
    "application/vnd.databricks.v1+cell": {
     "inputWidgets": {},
     "nuid": "39de8f15-f4ac-4c83-8768-f6bcd4d741ce",
     "showTitle": false,
     "title": ""
    }
   },
   "outputs": [],
   "source": [
    "resultDF = sumTotalByBranchDF.withColumn('TOTALPRICE',round('sum(LINENETTOTAL)',2)).drop('sum(LINENETTOTAL)')"
   ]
  },
  {
   "cell_type": "code",
   "execution_count": 0,
   "metadata": {
    "application/vnd.databricks.v1+cell": {
     "inputWidgets": {},
     "nuid": "a1418dce-44b1-44ce-be39-2bbc99337462",
     "showTitle": false,
     "title": ""
    }
   },
   "outputs": [
    {
     "data": {
      "text/html": [
       "<style scoped>\n",
       "  .table-result-container {\n",
       "    max-height: 300px;\n",
       "    overflow: auto;\n",
       "  }\n",
       "  table, th, td {\n",
       "    border: 1px solid black;\n",
       "    border-collapse: collapse;\n",
       "  }\n",
       "  th, td {\n",
       "    padding: 5px;\n",
       "  }\n",
       "  th {\n",
       "    text-align: left;\n",
       "  }\n",
       "</style><div class='table-result-container'><table class='table-result'><thead style='background-color: white'><tr><th>BRANCH</th><th>TOTALPRICE</th></tr></thead><tbody><tr><td>�stanbul Subesi</td><td>458484.93</td></tr><tr><td>Ankara Subesi</td><td>167002.25</td></tr><tr><td>�zmir Subesi</td><td>131799.05</td></tr><tr><td>Bursa Subesi</td><td>81148.86</td></tr><tr><td>Antalya Subesi</td><td>75283.4</td></tr><tr><td>Adana Subesi</td><td>64980.84</td></tr><tr><td>Konya Subesi</td><td>63917.53</td></tr><tr><td>�anl�urfa Subesi</td><td>58235.57</td></tr><tr><td>Kocaeli Subesi</td><td>57708.94</td></tr><tr><td>Zonguldak Subesi</td><td>57570.73</td></tr><tr><td>Gaziantep Subesi</td><td>57293.36</td></tr><tr><td>Diyarbak�r Subesi</td><td>56505.54</td></tr><tr><td>Mersin Subesi</td><td>50238.23</td></tr><tr><td>Hatay Subesi</td><td>47305.11</td></tr><tr><td>Kayseri Subesi</td><td>43515.95</td></tr><tr><td>Manisa Subesi</td><td>43347.94</td></tr><tr><td>Samsun Subesi</td><td>38536.9</td></tr><tr><td>Bal�kesir Subesi</td><td>37218.27</td></tr><tr><td>Van Subesi</td><td>35289.53</td></tr><tr><td>Kahramanmara� Subesi</td><td>32315.87</td></tr><tr><td>Ayd�n Subesi</td><td>32273.01</td></tr><tr><td>Denizli Subesi</td><td>31771.75</td></tr><tr><td>Tekirda� Subesi</td><td>29448.51</td></tr><tr><td>Sakarya Subesi</td><td>28297.21</td></tr><tr><td>Mu�la Subesi</td><td>28100.39</td></tr><tr><td>Eski�ehir Subesi</td><td>26286.08</td></tr><tr><td>Mardin Subesi</td><td>24265.69</td></tr><tr><td>Malatya Subesi</td><td>23602.69</td></tr><tr><td>Erzurum Subesi</td><td>22126.23</td></tr><tr><td>Ordu Subesi</td><td>21012.6</td></tr><tr><td>Trabzon Subesi</td><td>20978.64</td></tr><tr><td>Tokat Subesi</td><td>20106.18</td></tr><tr><td>Afyonkarahisar Subesi</td><td>19728.0</td></tr><tr><td>Osmaniye Subesi</td><td>18269.48</td></tr><tr><td>Ad�yaman Subesi</td><td>18208.65</td></tr><tr><td>Sivas Subesi</td><td>17909.56</td></tr><tr><td>A�r� Subesi</td><td>17425.41</td></tr><tr><td>K�tahya Subesi</td><td>17382.37</td></tr><tr><td>Elaz�� Subesi</td><td>17262.91</td></tr><tr><td>Batman Subesi</td><td>17018.33</td></tr><tr><td>��rnak Subesi</td><td>16758.56</td></tr><tr><td>�orum Subesi</td><td>16635.79</td></tr><tr><td>�anakkale Subesi</td><td>15240.66</td></tr><tr><td>Isparta Subesi</td><td>14622.6</td></tr><tr><td>Giresun Subesi</td><td>13960.76</td></tr><tr><td>G�m��hane Subesi</td><td>13420.86</td></tr><tr><td>Aksaray Subesi</td><td>12345.77</td></tr><tr><td>Yozgat Subesi</td><td>12206.98</td></tr><tr><td>Mu� Subesi</td><td>11999.38</td></tr><tr><td>Amasya Subesi</td><td>11235.14</td></tr><tr><td>K�rklareli Subesi</td><td>11095.11</td></tr><tr><td>Kastamonu Subesi</td><td>10992.08</td></tr><tr><td>U�ak Subesi</td><td>10515.03</td></tr><tr><td>Ni�de Subesi</td><td>10413.42</td></tr><tr><td>Bitlis Subesi</td><td>10198.94</td></tr><tr><td>Rize Subesi</td><td>9731.96</td></tr><tr><td>D�zce Subesi</td><td>9727.56</td></tr><tr><td>Edirne Subesi</td><td>9572.68</td></tr><tr><td>Siirt Subesi</td><td>9255.64</td></tr><tr><td>K�r�kkale Subesi</td><td>8855.07</td></tr><tr><td>Nev�ehir Subesi</td><td>8781.07</td></tr><tr><td>Bolu Subesi</td><td>8716.13</td></tr><tr><td>Bing�l Subesi</td><td>8603.44</td></tr><tr><td>Erzincan Subesi</td><td>8497.87</td></tr><tr><td>Karaman Subesi</td><td>7776.75</td></tr><tr><td>Hakkari Subesi</td><td>7755.1</td></tr><tr><td>Kars Subesi</td><td>7581.17</td></tr><tr><td>Burdur Subesi</td><td>7440.65</td></tr><tr><td>K�r�ehir Subesi</td><td>7357.31</td></tr><tr><td>Karab�k Subesi</td><td>7140.9</td></tr><tr><td>Yalova Subesi</td><td>6285.41</td></tr><tr><td>Bilecik Subesi</td><td>5951.65</td></tr><tr><td>Artvin Subesi</td><td>5710.9</td></tr><tr><td>I�d�r Subesi</td><td>5341.67</td></tr><tr><td>�ank�r� Subesi</td><td>5323.98</td></tr><tr><td>Sinop Subesi</td><td>5248.46</td></tr><tr><td>Bart�n Subesi</td><td>4758.74</td></tr><tr><td>Kilis Subesi</td><td>4663.51</td></tr><tr><td>Ardahan Subesi</td><td>2887.15</td></tr><tr><td>Tunceli Subesi</td><td>2586.63</td></tr><tr><td>Bayburt Subesi</td><td>2044.47</td></tr><tr><td>null</td><td>null</td></tr></tbody></table></div>"
      ]
     },
     "metadata": {
      "application/vnd.databricks.v1+output": {
       "addedWidgets": {},
       "aggData": [],
       "aggError": "",
       "aggOverflow": false,
       "aggSchema": [],
       "aggSeriesLimitReached": false,
       "aggType": "",
       "arguments": {},
       "columnCustomDisplayInfos": {},
       "data": [
        [
         "�stanbul Subesi",
         458484.93
        ],
        [
         "Ankara Subesi",
         167002.25
        ],
        [
         "�zmir Subesi",
         131799.05
        ],
        [
         "Bursa Subesi",
         81148.86
        ],
        [
         "Antalya Subesi",
         75283.4
        ],
        [
         "Adana Subesi",
         64980.84
        ],
        [
         "Konya Subesi",
         63917.53
        ],
        [
         "�anl�urfa Subesi",
         58235.57
        ],
        [
         "Kocaeli Subesi",
         57708.94
        ],
        [
         "Zonguldak Subesi",
         57570.73
        ],
        [
         "Gaziantep Subesi",
         57293.36
        ],
        [
         "Diyarbak�r Subesi",
         56505.54
        ],
        [
         "Mersin Subesi",
         50238.23
        ],
        [
         "Hatay Subesi",
         47305.11
        ],
        [
         "Kayseri Subesi",
         43515.95
        ],
        [
         "Manisa Subesi",
         43347.94
        ],
        [
         "Samsun Subesi",
         38536.9
        ],
        [
         "Bal�kesir Subesi",
         37218.27
        ],
        [
         "Van Subesi",
         35289.53
        ],
        [
         "Kahramanmara� Subesi",
         32315.87
        ],
        [
         "Ayd�n Subesi",
         32273.01
        ],
        [
         "Denizli Subesi",
         31771.75
        ],
        [
         "Tekirda� Subesi",
         29448.51
        ],
        [
         "Sakarya Subesi",
         28297.21
        ],
        [
         "Mu�la Subesi",
         28100.39
        ],
        [
         "Eski�ehir Subesi",
         26286.08
        ],
        [
         "Mardin Subesi",
         24265.69
        ],
        [
         "Malatya Subesi",
         23602.69
        ],
        [
         "Erzurum Subesi",
         22126.23
        ],
        [
         "Ordu Subesi",
         21012.6
        ],
        [
         "Trabzon Subesi",
         20978.64
        ],
        [
         "Tokat Subesi",
         20106.18
        ],
        [
         "Afyonkarahisar Subesi",
         19728
        ],
        [
         "Osmaniye Subesi",
         18269.48
        ],
        [
         "Ad�yaman Subesi",
         18208.65
        ],
        [
         "Sivas Subesi",
         17909.56
        ],
        [
         "A�r� Subesi",
         17425.41
        ],
        [
         "K�tahya Subesi",
         17382.37
        ],
        [
         "Elaz�� Subesi",
         17262.91
        ],
        [
         "Batman Subesi",
         17018.33
        ],
        [
         "��rnak Subesi",
         16758.56
        ],
        [
         "�orum Subesi",
         16635.79
        ],
        [
         "�anakkale Subesi",
         15240.66
        ],
        [
         "Isparta Subesi",
         14622.6
        ],
        [
         "Giresun Subesi",
         13960.76
        ],
        [
         "G�m��hane Subesi",
         13420.86
        ],
        [
         "Aksaray Subesi",
         12345.77
        ],
        [
         "Yozgat Subesi",
         12206.98
        ],
        [
         "Mu� Subesi",
         11999.38
        ],
        [
         "Amasya Subesi",
         11235.14
        ],
        [
         "K�rklareli Subesi",
         11095.11
        ],
        [
         "Kastamonu Subesi",
         10992.08
        ],
        [
         "U�ak Subesi",
         10515.03
        ],
        [
         "Ni�de Subesi",
         10413.42
        ],
        [
         "Bitlis Subesi",
         10198.94
        ],
        [
         "Rize Subesi",
         9731.96
        ],
        [
         "D�zce Subesi",
         9727.56
        ],
        [
         "Edirne Subesi",
         9572.68
        ],
        [
         "Siirt Subesi",
         9255.64
        ],
        [
         "K�r�kkale Subesi",
         8855.07
        ],
        [
         "Nev�ehir Subesi",
         8781.07
        ],
        [
         "Bolu Subesi",
         8716.13
        ],
        [
         "Bing�l Subesi",
         8603.44
        ],
        [
         "Erzincan Subesi",
         8497.87
        ],
        [
         "Karaman Subesi",
         7776.75
        ],
        [
         "Hakkari Subesi",
         7755.1
        ],
        [
         "Kars Subesi",
         7581.17
        ],
        [
         "Burdur Subesi",
         7440.65
        ],
        [
         "K�r�ehir Subesi",
         7357.31
        ],
        [
         "Karab�k Subesi",
         7140.9
        ],
        [
         "Yalova Subesi",
         6285.41
        ],
        [
         "Bilecik Subesi",
         5951.65
        ],
        [
         "Artvin Subesi",
         5710.9
        ],
        [
         "I�d�r Subesi",
         5341.67
        ],
        [
         "�ank�r� Subesi",
         5323.98
        ],
        [
         "Sinop Subesi",
         5248.46
        ],
        [
         "Bart�n Subesi",
         4758.74
        ],
        [
         "Kilis Subesi",
         4663.51
        ],
        [
         "Ardahan Subesi",
         2887.15
        ],
        [
         "Tunceli Subesi",
         2586.63
        ],
        [
         "Bayburt Subesi",
         2044.47
        ],
        [
         null,
         null
        ]
       ],
       "datasetInfos": [],
       "dbfsResultPath": null,
       "isJsonSchema": true,
       "metadata": {},
       "overflow": false,
       "plotOptions": {
        "customPlotOptions": {},
        "displayType": "plotlyBar",
        "pivotAggregation": null,
        "pivotColumns": null,
        "xColumns": null,
        "yColumns": null
       },
       "removedWidgets": [],
       "schema": [
        {
         "metadata": "{}",
         "name": "BRANCH",
         "type": "\"string\""
        },
        {
         "metadata": "{}",
         "name": "TOTALPRICE",
         "type": "\"double\""
        }
       ],
       "type": "table"
      }
     },
     "output_type": "display_data"
    }
   ],
   "source": [
    "display(resultDF)"
   ]
  },
  {
   "cell_type": "code",
   "execution_count": 0,
   "metadata": {
    "application/vnd.databricks.v1+cell": {
     "inputWidgets": {},
     "nuid": "6545b7fd-2a5b-4d62-9efd-6ad3eb7a042a",
     "showTitle": false,
     "title": ""
    }
   },
   "outputs": [
    {
     "data": {
      "text/plain": [
       "+-----------------------------+-----+\n",
       "|ITEMNAME                     |count|\n",
       "+-----------------------------+-----+\n",
       "|EKMEK 250 GR                 |9122 |\n",
       "|null                         |7175 |\n",
       "|DOMATES                      |6018 |\n",
       "|PATATES                      |5718 |\n",
       "|PORTAKAL                     |5611 |\n",
       "|TOZ SEKER                    |5242 |\n",
       "|SOGAN                        |4631 |\n",
       "|OSMANCIK PIRINC KG.          |4101 |\n",
       "|LIMON                        |4093 |\n",
       "|MUZ                          |3934 |\n",
       "|KIVIRCIK                     |3925 |\n",
       "|MAYDANOZ                     |3808 |\n",
       "|HAVUC                        |3632 |\n",
       "|S�H�RL� ELLER C�G K�FTE 200GR|3566 |\n",
       "|F NEFFIS S�T YARIM YA�LI 1 LT|3253 |\n",
       "|YERLI BADEM                  |2900 |\n",
       "|ULKER CIKOLATALI GOFRET 35GR |2692 |\n",
       "|YAHYAOGLU 15 LI YUMURTA      |2588 |\n",
       "|PORTAKAL SIKMALIK            |2561 |\n",
       "|SALKIM DOMATES               |2471 |\n",
       "+-----------------------------+-----+\n",
       "only showing top 20 rows\n",
       "\n"
      ]
     },
     "metadata": {
      "application/vnd.databricks.v1+output": {
       "addedWidgets": {},
       "arguments": {},
       "data": "+-----------------------------+-----+\n|ITEMNAME                     |count|\n+-----------------------------+-----+\n|EKMEK 250 GR                 |9122 |\n|null                         |7175 |\n|DOMATES                      |6018 |\n|PATATES                      |5718 |\n|PORTAKAL                     |5611 |\n|TOZ SEKER                    |5242 |\n|SOGAN                        |4631 |\n|OSMANCIK PIRINC KG.          |4101 |\n|LIMON                        |4093 |\n|MUZ                          |3934 |\n|KIVIRCIK                     |3925 |\n|MAYDANOZ                     |3808 |\n|HAVUC                        |3632 |\n|S�H�RL� ELLER C�G K�FTE 200GR|3566 |\n|F NEFFIS S�T YARIM YA�LI 1 LT|3253 |\n|YERLI BADEM                  |2900 |\n|ULKER CIKOLATALI GOFRET 35GR |2692 |\n|YAHYAOGLU 15 LI YUMURTA      |2588 |\n|PORTAKAL SIKMALIK            |2561 |\n|SALKIM DOMATES               |2471 |\n+-----------------------------+-----+\nonly showing top 20 rows\n\n",
       "datasetInfos": [],
       "metadata": {},
       "removedWidgets": [],
       "type": "ansi"
      }
     },
     "output_type": "display_data"
    }
   ],
   "source": [
    "selectDF.groupBy('ITEMNAME').count().orderBy('count',ascending=False).show(truncate=False)"
   ]
  },
  {
   "cell_type": "code",
   "execution_count": 0,
   "metadata": {
    "application/vnd.databricks.v1+cell": {
     "inputWidgets": {},
     "nuid": "493b527a-8b21-4896-993a-fce2fd8d757c",
     "showTitle": false,
     "title": ""
    }
   },
   "outputs": [
    {
     "data": {
      "text/plain": [
       "+--------------------+------------+----------+\n",
       "|            ITEMNAME|LINENETTOTAL|CLIENTCODE|\n",
       "+--------------------+------------+----------+\n",
       "|     SAMSUN 216 SOFT|      2761.0|      9010|\n",
       "|     SAMSUN 216 SOFT|      2761.0|      9010|\n",
       "|CANPED POLITENLI ...|      4278.0|    854889|\n",
       "|CANPED POLITENLI ...|      4278.0|    854889|\n",
       "+--------------------+------------+----------+\n",
       "\n"
      ]
     },
     "metadata": {
      "application/vnd.databricks.v1+output": {
       "addedWidgets": {},
       "arguments": {},
       "data": "+--------------------+------------+----------+\n|            ITEMNAME|LINENETTOTAL|CLIENTCODE|\n+--------------------+------------+----------+\n|     SAMSUN 216 SOFT|      2761.0|      9010|\n|     SAMSUN 216 SOFT|      2761.0|      9010|\n|CANPED POLITENLI ...|      4278.0|    854889|\n|CANPED POLITENLI ...|      4278.0|    854889|\n+--------------------+------------+----------+\n\n",
       "datasetInfos": [],
       "metadata": {},
       "removedWidgets": [],
       "type": "ansi"
      }
     },
     "output_type": "display_data"
    }
   ],
   "source": [
    "#rawDF.select('ITEMNAME','LINENETTOTAL','CLIENTCODE').filter((\"LINENETTOTAL>1500 and LINENETTOTAL<5000\")).show()\n",
    "nullwoclientCodeDF.select('ITEMNAME','LINENETTOTAL','CLIENTCODE').filter((rawDF['LINENETTOTAL']>1500) & (rawDF['LINENETTOTAL']<5000)).show()"
   ]
  },
  {
   "cell_type": "code",
   "execution_count": 0,
   "metadata": {
    "application/vnd.databricks.v1+cell": {
     "inputWidgets": {},
     "nuid": "6f71b455-dfce-406c-9396-9d774d807be6",
     "showTitle": false,
     "title": ""
    }
   },
   "outputs": [],
   "source": [
    "nullclientCodeDF = rawDF.filter(col('CLIENTCODE').isNull())"
   ]
  },
  {
   "cell_type": "code",
   "execution_count": 0,
   "metadata": {
    "application/vnd.databricks.v1+cell": {
     "inputWidgets": {},
     "nuid": "845118b9-b066-43a9-838a-59a15f2c3714",
     "showTitle": false,
     "title": ""
    }
   },
   "outputs": [],
   "source": [
    "nullwoclientCodeDF = rawDF.filter(col('CLIENTCODE').isNotNull())"
   ]
  },
  {
   "cell_type": "code",
   "execution_count": 0,
   "metadata": {
    "application/vnd.databricks.v1+cell": {
     "inputWidgets": {},
     "nuid": "d3e44341-dfe8-40de-8b41-395cc4041831",
     "showTitle": false,
     "title": ""
    }
   },
   "outputs": [
    {
     "data": {
      "text/plain": [
       "+-----+--------------------+--------------+------+-----+------------+--------+----------------+---------+-----------------+----------+---------+--------------+---------------+---------------+------------------+--------------+--------------+------+\n",
       "|   ID|            ITEMNAME|         DATE_|AMOUNT|PRICE|LINENETTOTAL|BRANCHNR|          BRANCH|     CITY|           REGION|CLIENTCODE|BRANDCODE|         BRAND| CATEGORY_NAME1| CATEGORY_NAME2|    CATEGORY_NAME3|     STARTDATE|       ENDDATE|GENDER|\n",
       "+-----+--------------------+--------------+------+-----+------------+--------+----------------+---------+-----------------+----------+---------+--------------+---------------+---------------+------------------+--------------+--------------+------+\n",
       "|11738|SPRITE 1 LT LIMON...|07/01/17 00:00|   1.0|  2.0|         2.0|      52|  Kocaeli Subesi|  Kocaeli|          Marmara|    467369|      156|        SPR�TE|         ��ECEK|   GAZLI ��ECEK|             GAZOZ|08/01/17 16:16|08/01/17 16:17|     E|\n",
       "|10537|           TOZ SEKER|06/01/17 00:00|   5.0| 2.65|       13.25|       8|  Antalya Subesi|  Antalya|          Akdeniz|    131464|     null|          null|         ��ECEK|      �AY KAHVE|SEKER TATLANDIRICI|07/01/17 11:04|07/01/17 11:05|     E|\n",
       "|11335|FALIM SAKIZ 5LI NANE|03/01/17 00:00|   1.0|  0.4|         0.4|      40| �stanbul Subesi| �stanbul|          Marmara|    656969|      300|         FALIM|           GIDA|SAKIZ SEKERLEME|             SAKIZ|04/01/17 14:00|04/01/17 14:01|     E|\n",
       "|11336|FALIM SAKIZ 5LI NANE|03/01/17 00:00|   1.0|  0.4|         0.4|      40| �stanbul Subesi| �stanbul|          Marmara|    656969|      300|         FALIM|           GIDA|SAKIZ SEKERLEME|             SAKIZ|04/01/17 14:00|04/01/17 14:01|     E|\n",
       "|10115|FALIM SAKIZ 5LI C...|05/01/17 00:00|   1.0|  0.4|         0.4|      41|    �zmir Subesi|    �zmir|              Ege|    447336|      300|         FALIM|           GIDA|SAKIZ SEKERLEME|             SAKIZ|06/01/17 14:00|06/01/17 14:01|     K|\n",
       "|10649|           TOZ SEKER|06/01/17 00:00|   2.0| 2.65|         5.3|      29|   Elaz�� Subesi|   Elaz��|     Do�u Anadolu|      9485|     null|          null|         ��ECEK|      �AY KAHVE|SEKER TATLANDIRICI|07/01/17 15:40|07/01/17 15:41|     E|\n",
       "|11845|F NEFFIS TOZ SEKE...|07/01/17 00:00|   1.0|  5.6|         5.6|      55|  Malatya Subesi|  Malatya|     Do�u Anadolu|      5481|       49|      F NEFF�S|         ��ECEK|      �AY KAHVE|SEKER TATLANDIRICI|08/01/17 17:20|08/01/17 17:21|     K|\n",
       "|11348|           TOZ SEKER|03/01/17 00:00|   2.0| 2.65|         5.3|      40| �stanbul Subesi| �stanbul|          Marmara|    144939|     null|          null|         ��ECEK|      �AY KAHVE|SEKER TATLANDIRICI|04/01/17 14:40|04/01/17 14:42|     E|\n",
       "|10545|           TOZ SEKER|06/01/17 00:00|   2.0| 2.65|         5.3|      56|   Manisa Subesi|   Manisa|              Ege|      7874|     null|          null|         ��ECEK|      �AY KAHVE|SEKER TATLANDIRICI|07/01/17 11:08|07/01/17 11:08|     K|\n",
       "|11411|F NEFFIS KESME SE...|03/01/17 00:00|   1.0| 2.85|        2.85|      59|    Mu�la Subesi|    Mu�la|              Ege|    784782|       49|      F NEFF�S|         ��ECEK|      �AY KAHVE|SEKER TATLANDIRICI|04/01/17 15:56|04/01/17 15:57|     K|\n",
       "|10472|KENT TOPITOP DISN...|05/01/17 00:00|   1.0|  1.6|         1.6|      60|      Mu� Subesi|      Mu�|     Do�u Anadolu|    771816|       79|          KENT|           GIDA|SAKIZ SEKERLEME|         �EKERLEME|06/01/17 18:44|06/01/17 18:45|     K|\n",
       "|10304|VIVIDENT CZD FRUI...|05/01/17 00:00|   1.0| 1.95|        1.95|       1|    Adana Subesi|    Adana|          Akdeniz|    630399|      148|      V�V�DENT|           GIDA|SAKIZ SEKERLEME|             SAKIZ|06/01/17 19:52|06/01/17 19:52|     K|\n",
       "|  324|LAVACHE QUIRIT UC...|02/01/17 00:00|   1.0| 3.45|        3.45|      66|  Sakarya Subesi|  Sakarya|          Marmara|    600916|      198|LAVACHE-KARPER|S�T KAHVALTILIK|         PEYN�R|              null|03/01/17 15:00|03/01/17 15:02|     E|\n",
       "| 9660|       KIRMIZI BIBER|06/01/17 00:00| 0.235| 4.95|        1.16|      81|Zonguldak Subesi|Zonguldak|        Karadeniz|    575194|      A25|           HAL|    MEYVE SEBZE|          SEBZE|              null|07/01/17 12:52|07/01/17 12:53|     K|\n",
       "| 9662|        CERI DOMATES|06/01/17 00:00|  0.76| 4.75|        3.61|      81|Zonguldak Subesi|Zonguldak|        Karadeniz|    575194|      A25|           HAL|    MEYVE SEBZE|          SEBZE|              null|07/01/17 12:52|07/01/17 12:53|     K|\n",
       "| 9625|      SALKIM DOMATES|06/01/17 00:00| 0.945|  5.2|        4.91|      12|Bal�kesir Subesi|Bal�kesir|              Ege|     74884|      A25|           HAL|    MEYVE SEBZE|          SEBZE|              null|07/01/17 11:12|07/01/17 11:13|     K|\n",
       "| 9748|             PATATES|06/01/17 00:00|  2.79| 2.45|        6.84|      12|Bal�kesir Subesi|Bal�kesir|              Ege|    521495|      A25|           HAL|    MEYVE SEBZE|          SEBZE|              null|07/01/17 14:28|07/01/17 14:29|     E|\n",
       "| 9852|      SALKIM DOMATES|06/01/17 00:00| 0.745|  5.2|        3.87|      48|K�r�kkale Subesi|K�r�kkale|       �� Anadolu|    318719|      A25|           HAL|    MEYVE SEBZE|          SEBZE|              null|07/01/17 16:28|07/01/17 16:29|     E|\n",
       "| 5191|             PATATES|05/01/17 00:00| 1.235| 2.45|        3.03|      33|Gaziantep Subesi|Gaziantep|G�neydo�u Anadolu|    522358|      A25|           HAL|    MEYVE SEBZE|          SEBZE|              null|06/01/17 11:04|06/01/17 11:04|     K|\n",
       "| 3734|MAGGI CORBA KREMA...|05/01/17 00:00|   1.0| 0.85|        0.85|      33|Gaziantep Subesi|Gaziantep|G�neydo�u Anadolu|     18004|       90|         MAGG�|           GIDA|   CORBA BULYON|          CORBALAR|06/01/17 13:16|06/01/17 13:18|     K|\n",
       "+-----+--------------------+--------------+------+-----+------------+--------+----------------+---------+-----------------+----------+---------+--------------+---------------+---------------+------------------+--------------+--------------+------+\n",
       "only showing top 20 rows\n",
       "\n"
      ]
     },
     "metadata": {
      "application/vnd.databricks.v1+output": {
       "addedWidgets": {},
       "arguments": {},
       "data": "+-----+--------------------+--------------+------+-----+------------+--------+----------------+---------+-----------------+----------+---------+--------------+---------------+---------------+------------------+--------------+--------------+------+\n|   ID|            ITEMNAME|         DATE_|AMOUNT|PRICE|LINENETTOTAL|BRANCHNR|          BRANCH|     CITY|           REGION|CLIENTCODE|BRANDCODE|         BRAND| CATEGORY_NAME1| CATEGORY_NAME2|    CATEGORY_NAME3|     STARTDATE|       ENDDATE|GENDER|\n+-----+--------------------+--------------+------+-----+------------+--------+----------------+---------+-----------------+----------+---------+--------------+---------------+---------------+------------------+--------------+--------------+------+\n|11738|SPRITE 1 LT LIMON...|07/01/17 00:00|   1.0|  2.0|         2.0|      52|  Kocaeli Subesi|  Kocaeli|          Marmara|    467369|      156|        SPR�TE|         ��ECEK|   GAZLI ��ECEK|             GAZOZ|08/01/17 16:16|08/01/17 16:17|     E|\n|10537|           TOZ SEKER|06/01/17 00:00|   5.0| 2.65|       13.25|       8|  Antalya Subesi|  Antalya|          Akdeniz|    131464|     null|          null|         ��ECEK|      �AY KAHVE|SEKER TATLANDIRICI|07/01/17 11:04|07/01/17 11:05|     E|\n|11335|FALIM SAKIZ 5LI NANE|03/01/17 00:00|   1.0|  0.4|         0.4|      40| �stanbul Subesi| �stanbul|          Marmara|    656969|      300|         FALIM|           GIDA|SAKIZ SEKERLEME|             SAKIZ|04/01/17 14:00|04/01/17 14:01|     E|\n|11336|FALIM SAKIZ 5LI NANE|03/01/17 00:00|   1.0|  0.4|         0.4|      40| �stanbul Subesi| �stanbul|          Marmara|    656969|      300|         FALIM|           GIDA|SAKIZ SEKERLEME|             SAKIZ|04/01/17 14:00|04/01/17 14:01|     E|\n|10115|FALIM SAKIZ 5LI C...|05/01/17 00:00|   1.0|  0.4|         0.4|      41|    �zmir Subesi|    �zmir|              Ege|    447336|      300|         FALIM|           GIDA|SAKIZ SEKERLEME|             SAKIZ|06/01/17 14:00|06/01/17 14:01|     K|\n|10649|           TOZ SEKER|06/01/17 00:00|   2.0| 2.65|         5.3|      29|   Elaz�� Subesi|   Elaz��|     Do�u Anadolu|      9485|     null|          null|         ��ECEK|      �AY KAHVE|SEKER TATLANDIRICI|07/01/17 15:40|07/01/17 15:41|     E|\n|11845|F NEFFIS TOZ SEKE...|07/01/17 00:00|   1.0|  5.6|         5.6|      55|  Malatya Subesi|  Malatya|     Do�u Anadolu|      5481|       49|      F NEFF�S|         ��ECEK|      �AY KAHVE|SEKER TATLANDIRICI|08/01/17 17:20|08/01/17 17:21|     K|\n|11348|           TOZ SEKER|03/01/17 00:00|   2.0| 2.65|         5.3|      40| �stanbul Subesi| �stanbul|          Marmara|    144939|     null|          null|         ��ECEK|      �AY KAHVE|SEKER TATLANDIRICI|04/01/17 14:40|04/01/17 14:42|     E|\n|10545|           TOZ SEKER|06/01/17 00:00|   2.0| 2.65|         5.3|      56|   Manisa Subesi|   Manisa|              Ege|      7874|     null|          null|         ��ECEK|      �AY KAHVE|SEKER TATLANDIRICI|07/01/17 11:08|07/01/17 11:08|     K|\n|11411|F NEFFIS KESME SE...|03/01/17 00:00|   1.0| 2.85|        2.85|      59|    Mu�la Subesi|    Mu�la|              Ege|    784782|       49|      F NEFF�S|         ��ECEK|      �AY KAHVE|SEKER TATLANDIRICI|04/01/17 15:56|04/01/17 15:57|     K|\n|10472|KENT TOPITOP DISN...|05/01/17 00:00|   1.0|  1.6|         1.6|      60|      Mu� Subesi|      Mu�|     Do�u Anadolu|    771816|       79|          KENT|           GIDA|SAKIZ SEKERLEME|         �EKERLEME|06/01/17 18:44|06/01/17 18:45|     K|\n|10304|VIVIDENT CZD FRUI...|05/01/17 00:00|   1.0| 1.95|        1.95|       1|    Adana Subesi|    Adana|          Akdeniz|    630399|      148|      V�V�DENT|           GIDA|SAKIZ SEKERLEME|             SAKIZ|06/01/17 19:52|06/01/17 19:52|     K|\n|  324|LAVACHE QUIRIT UC...|02/01/17 00:00|   1.0| 3.45|        3.45|      66|  Sakarya Subesi|  Sakarya|          Marmara|    600916|      198|LAVACHE-KARPER|S�T KAHVALTILIK|         PEYN�R|              null|03/01/17 15:00|03/01/17 15:02|     E|\n| 9660|       KIRMIZI BIBER|06/01/17 00:00| 0.235| 4.95|        1.16|      81|Zonguldak Subesi|Zonguldak|        Karadeniz|    575194|      A25|           HAL|    MEYVE SEBZE|          SEBZE|              null|07/01/17 12:52|07/01/17 12:53|     K|\n| 9662|        CERI DOMATES|06/01/17 00:00|  0.76| 4.75|        3.61|      81|Zonguldak Subesi|Zonguldak|        Karadeniz|    575194|      A25|           HAL|    MEYVE SEBZE|          SEBZE|              null|07/01/17 12:52|07/01/17 12:53|     K|\n| 9625|      SALKIM DOMATES|06/01/17 00:00| 0.945|  5.2|        4.91|      12|Bal�kesir Subesi|Bal�kesir|              Ege|     74884|      A25|           HAL|    MEYVE SEBZE|          SEBZE|              null|07/01/17 11:12|07/01/17 11:13|     K|\n| 9748|             PATATES|06/01/17 00:00|  2.79| 2.45|        6.84|      12|Bal�kesir Subesi|Bal�kesir|              Ege|    521495|      A25|           HAL|    MEYVE SEBZE|          SEBZE|              null|07/01/17 14:28|07/01/17 14:29|     E|\n| 9852|      SALKIM DOMATES|06/01/17 00:00| 0.745|  5.2|        3.87|      48|K�r�kkale Subesi|K�r�kkale|       �� Anadolu|    318719|      A25|           HAL|    MEYVE SEBZE|          SEBZE|              null|07/01/17 16:28|07/01/17 16:29|     E|\n| 5191|             PATATES|05/01/17 00:00| 1.235| 2.45|        3.03|      33|Gaziantep Subesi|Gaziantep|G�neydo�u Anadolu|    522358|      A25|           HAL|    MEYVE SEBZE|          SEBZE|              null|06/01/17 11:04|06/01/17 11:04|     K|\n| 3734|MAGGI CORBA KREMA...|05/01/17 00:00|   1.0| 0.85|        0.85|      33|Gaziantep Subesi|Gaziantep|G�neydo�u Anadolu|     18004|       90|         MAGG�|           GIDA|   CORBA BULYON|          CORBALAR|06/01/17 13:16|06/01/17 13:18|     K|\n+-----+--------------------+--------------+------+-----+------------+--------+----------------+---------+-----------------+----------+---------+--------------+---------------+---------------+------------------+--------------+--------------+------+\nonly showing top 20 rows\n\n",
       "datasetInfos": [],
       "metadata": {},
       "removedWidgets": [],
       "type": "ansi"
      }
     },
     "output_type": "display_data"
    }
   ],
   "source": [
    "nullwoclientCodeDF.show()"
   ]
  },
  {
   "cell_type": "code",
   "execution_count": 0,
   "metadata": {
    "application/vnd.databricks.v1+cell": {
     "inputWidgets": {},
     "nuid": "b718ab1a-2b3c-4a42-83d8-4ff72fe90ca3",
     "showTitle": false,
     "title": ""
    }
   },
   "outputs": [
    {
     "data": {
      "text/plain": [
       "+----------------+\n",
       "|       NEWBRANCH|\n",
       "+----------------+\n",
       "|  Kocaeli Mağaza|\n",
       "|  Antalya Mağaza|\n",
       "| �stanbul Mağaza|\n",
       "| �stanbul Mağaza|\n",
       "|    �zmir Mağaza|\n",
       "|   Elaz�� Mağaza|\n",
       "|  Malatya Mağaza|\n",
       "| �stanbul Mağaza|\n",
       "|   Manisa Mağaza|\n",
       "|    Mu�la Mağaza|\n",
       "|      Mu� Mağaza|\n",
       "|    Adana Mağaza|\n",
       "|  Sakarya Mağaza|\n",
       "|Zonguldak Mağaza|\n",
       "|Zonguldak Mağaza|\n",
       "|Bal�kesir Mağaza|\n",
       "|Bal�kesir Mağaza|\n",
       "|K�r�kkale Mağaza|\n",
       "|Gaziantep Mağaza|\n",
       "|Gaziantep Mağaza|\n",
       "+----------------+\n",
       "only showing top 20 rows\n",
       "\n"
      ]
     },
     "metadata": {
      "application/vnd.databricks.v1+output": {
       "addedWidgets": {},
       "arguments": {},
       "data": "+----------------+\n|       NEWBRANCH|\n+----------------+\n|  Kocaeli Mağaza|\n|  Antalya Mağaza|\n| �stanbul Mağaza|\n| �stanbul Mağaza|\n|    �zmir Mağaza|\n|   Elaz�� Mağaza|\n|  Malatya Mağaza|\n| �stanbul Mağaza|\n|   Manisa Mağaza|\n|    Mu�la Mağaza|\n|      Mu� Mağaza|\n|    Adana Mağaza|\n|  Sakarya Mağaza|\n|Zonguldak Mağaza|\n|Zonguldak Mağaza|\n|Bal�kesir Mağaza|\n|Bal�kesir Mağaza|\n|K�r�kkale Mağaza|\n|Gaziantep Mağaza|\n|Gaziantep Mağaza|\n+----------------+\nonly showing top 20 rows\n\n",
       "datasetInfos": [],
       "metadata": {},
       "removedWidgets": [],
       "type": "ansi"
      }
     },
     "output_type": "display_data"
    }
   ],
   "source": [
    "rawDF.select('BRANCH').withColumn('NEWBRANCH',trim(regexp_replace('BRANCH','Subesi','Mağaza'))).drop('BRANCH').show()"
   ]
  },
  {
   "cell_type": "code",
   "execution_count": 0,
   "metadata": {
    "application/vnd.databricks.v1+cell": {
     "inputWidgets": {},
     "nuid": "b737b3eb-ca54-4d0e-94cd-af11b2ba14d9",
     "showTitle": false,
     "title": ""
    }
   },
   "outputs": [
    {
     "data": {
      "text/html": [
       "<style scoped>\n",
       "  .ansiout {\n",
       "    display: block;\n",
       "    unicode-bidi: embed;\n",
       "    white-space: pre-wrap;\n",
       "    word-wrap: break-word;\n",
       "    word-break: break-all;\n",
       "    font-family: \"Source Code Pro\", \"Menlo\", monospace;;\n",
       "    font-size: 13px;\n",
       "    color: #555;\n",
       "    margin-left: 4px;\n",
       "    line-height: 19px;\n",
       "  }\n",
       "</style>"
      ]
     },
     "metadata": {
      "application/vnd.databricks.v1+output": {
       "arguments": {},
       "data": "",
       "errorSummary": "",
       "errorTraceType": null,
       "metadata": {},
       "type": "ipynbError"
      }
     },
     "output_type": "display_data"
    }
   ],
   "source": [
    "rawDF.toPandas()"
   ]
  }
 ],
 "metadata": {
  "application/vnd.databricks.v1+notebook": {
   "dashboards": [],
   "language": "python",
   "notebookMetadata": {
    "pythonIndentUnit": 2
   },
   "notebookName": "marketsalesbigdataanalysis",
   "notebookOrigID": 3177399040311746,
   "widgets": {}
  },
  "kernelspec": {
   "display_name": "Python 3 (ipykernel)",
   "language": "python",
   "name": "python3"
  },
  "language_info": {
   "codemirror_mode": {
    "name": "ipython",
    "version": 3
   },
   "file_extension": ".py",
   "mimetype": "text/x-python",
   "name": "python",
   "nbconvert_exporter": "python",
   "pygments_lexer": "ipython3",
   "version": "3.10.9"
  }
 },
 "nbformat": 4,
 "nbformat_minor": 1
}
