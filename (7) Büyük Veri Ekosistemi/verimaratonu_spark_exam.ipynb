{
 "cells": [
  {
   "cell_type": "code",
   "execution_count": 0,
   "metadata": {
    "application/vnd.databricks.v1+cell": {
     "inputWidgets": {},
     "nuid": "a889c846-e7da-4ab2-91d0-923bd1879257",
     "showTitle": false,
     "title": ""
    }
   },
   "outputs": [],
   "source": [
    "from pyspark.sql import SparkSession"
   ]
  },
  {
   "cell_type": "code",
   "execution_count": 0,
   "metadata": {
    "application/vnd.databricks.v1+cell": {
     "inputWidgets": {},
     "nuid": "0d183818-62ea-4791-a22f-eedf1da32e9b",
     "showTitle": false,
     "title": ""
    }
   },
   "outputs": [],
   "source": [
    "sparkSession = SparkSession.builder.appName('Veri Maratonu Spark İlk Örnek').getOrCreate()"
   ]
  },
  {
   "cell_type": "code",
   "execution_count": 0,
   "metadata": {
    "application/vnd.databricks.v1+cell": {
     "inputWidgets": {},
     "nuid": "a11f6fdd-076c-4987-b453-e1db39fee939",
     "showTitle": false,
     "title": ""
    }
   },
   "outputs": [
    {
     "data": {
      "text/html": [
       "\n",
       "            <div>\n",
       "                <p><b>SparkSession - hive</b></p>\n",
       "                \n",
       "        <div>\n",
       "            <p><b>SparkContext</b></p>\n",
       "\n",
       "            <p><a href=\"/?o=2695144408936499#setting/sparkui/0215-074238-zcxmbtrg/driver-5676951123950000463\">Spark UI</a></p>\n",
       "\n",
       "            <dl>\n",
       "              <dt>Version</dt>\n",
       "                <dd><code>v3.1.2</code></dd>\n",
       "              <dt>Master</dt>\n",
       "                <dd><code>local[8]</code></dd>\n",
       "              <dt>AppName</dt>\n",
       "                <dd><code>Databricks Shell</code></dd>\n",
       "            </dl>\n",
       "        </div>\n",
       "        \n",
       "            </div>\n",
       "        "
      ]
     },
     "metadata": {
      "application/vnd.databricks.v1+output": {
       "addedWidgets": {},
       "arguments": {},
       "data": "\n            <div>\n                <p><b>SparkSession - hive</b></p>\n                \n        <div>\n            <p><b>SparkContext</b></p>\n\n            <p><a href=\"/?o=2695144408936499#setting/sparkui/0215-074238-zcxmbtrg/driver-5676951123950000463\">Spark UI</a></p>\n\n            <dl>\n              <dt>Version</dt>\n                <dd><code>v3.1.2</code></dd>\n              <dt>Master</dt>\n                <dd><code>local[8]</code></dd>\n              <dt>AppName</dt>\n                <dd><code>Databricks Shell</code></dd>\n            </dl>\n        </div>\n        \n            </div>\n        ",
       "datasetInfos": [],
       "metadata": {},
       "removedWidgets": [],
       "textData": null,
       "type": "htmlSandbox"
      }
     },
     "output_type": "display_data"
    }
   ],
   "source": [
    "sparkSession"
   ]
  },
  {
   "cell_type": "code",
   "execution_count": 0,
   "metadata": {
    "application/vnd.databricks.v1+cell": {
     "inputWidgets": {},
     "nuid": "98051849-d7ef-48b3-9623-5d0c50e4df52",
     "showTitle": false,
     "title": ""
    }
   },
   "outputs": [],
   "source": [
    "rawDF = sparkSession.read.csv('/FileStore/tables/verimaratonutest.csv',header=True,inferSchema=True)"
   ]
  },
  {
   "cell_type": "code",
   "execution_count": 0,
   "metadata": {
    "application/vnd.databricks.v1+cell": {
     "inputWidgets": {},
     "nuid": "270cea7d-bad6-4615-baf2-c2cb7ea543ad",
     "showTitle": false,
     "title": ""
    }
   },
   "outputs": [
    {
     "data": {
      "text/plain": [
       "root\n",
       " |-- id: integer (nullable = true)\n",
       " |-- first_name: string (nullable = true)\n",
       " |-- last_name: string (nullable = true)\n",
       " |-- email: string (nullable = true)\n",
       " |-- gender: string (nullable = true)\n",
       " |-- country: string (nullable = true)\n",
       " |-- city: string (nullable = true)\n",
       "\n"
      ]
     },
     "metadata": {
      "application/vnd.databricks.v1+output": {
       "addedWidgets": {},
       "arguments": {},
       "data": "root\n |-- id: integer (nullable = true)\n |-- first_name: string (nullable = true)\n |-- last_name: string (nullable = true)\n |-- email: string (nullable = true)\n |-- gender: string (nullable = true)\n |-- country: string (nullable = true)\n |-- city: string (nullable = true)\n\n",
       "datasetInfos": [],
       "metadata": {},
       "removedWidgets": [],
       "type": "ansi"
      }
     },
     "output_type": "display_data"
    }
   ],
   "source": [
    "rawDF.printSchema()"
   ]
  },
  {
   "cell_type": "code",
   "execution_count": 0,
   "metadata": {
    "application/vnd.databricks.v1+cell": {
     "inputWidgets": {},
     "nuid": "99aafa16-dba3-4937-8339-cbe1fa32d9e1",
     "showTitle": false,
     "title": ""
    }
   },
   "outputs": [
    {
     "data": {
      "text/plain": [
       "+---+----------+----------+--------------------+----------+-----------+-------------+\n",
       "| id|first_name| last_name|               email|    gender|    country|         city|\n",
       "+---+----------+----------+--------------------+----------+-----------+-------------+\n",
       "|  1|     Shane|  Cudworth|scudworth0@wordpr...|    Female|     Mexico|     El Limon|\n",
       "|  2|    Marthe|    Kippax|      mkippax1@de.vu|      Male|      China|      Zhetang|\n",
       "|  3|Petronilla|    Malser|pmalser2@miibeian...|    Female|   Bulgaria|     Karnobat|\n",
       "|  4|   Ottilie|    Fosken|ofosken3@timesonl...|    Female|    Jamaica|   Point Hill|\n",
       "|  5|      Kile|    Sorton|ksorton4@bluehost...|      Male|   Mongolia|       Arhust|\n",
       "|  6|      Buck|Gouldstraw|bgouldstraw5@yell...|Polygender|Philippines|       Liozon|\n",
       "|  7|     Fayre|    Barwis|fbarwis6@studiopr...|    Female|     Russia|Kushchëvskaya|\n",
       "|  8|       Gib|   Packman|gpackman7@princet...|    Female|  Indonesia|     Kuangsan|\n",
       "|  9|    Perice|    Wither|  pwither8@slate.com|      Male|  Indonesia|  Belung Satu|\n",
       "| 10|   Margalo|Ochterlony|mochterlony9@yout...|      Male|     Panama|     Pedregal|\n",
       "| 11|     Maddy|  Taverner|mtavernera@seattl...|      Male|Philippines|     Bungsuan|\n",
       "| 12|  Vivienne|  McCulley|vmcculleyb@wikisp...|      Male|     France|      Créteil|\n",
       "| 13|    Jamaal|    Ayliff| jayliffc@apache.org|Non-binary|      China|  Hongshanzui|\n",
       "| 14|     Betty|  Hanretty|bhanrettyd@whiteh...|      Male|Afghanistan|     Shīnḏanḏ|\n",
       "| 15|    Brandy|   Kincade|    bkincadee@qq.com|      Male|     France|     Toulouse|\n",
       "| 16| Augustine|    Tingly|   atinglyf@ox.ac.uk|      Male|   Bulgaria|      Chavdar|\n",
       "| 17|     Brent|   Finding|   bfindingg@loc.gov|      Male|      Samoa|      Faleula|\n",
       "| 18|      Gris|    Dirand|  gdirandh@goo.ne.jp|      Male|      Haiti| Port-de-Paix|\n",
       "| 19|      Kipp|    Tourle|   ktourlei@ebay.com|      Male|     France|     Le Havre|\n",
       "| 20|    Grazia|   Asquith|gasquithj@altervi...|      Male|   Malaysia|      Kuching|\n",
       "+---+----------+----------+--------------------+----------+-----------+-------------+\n",
       "only showing top 20 rows\n",
       "\n"
      ]
     },
     "metadata": {
      "application/vnd.databricks.v1+output": {
       "addedWidgets": {},
       "arguments": {},
       "data": "+---+----------+----------+--------------------+----------+-----------+-------------+\n| id|first_name| last_name|               email|    gender|    country|         city|\n+---+----------+----------+--------------------+----------+-----------+-------------+\n|  1|     Shane|  Cudworth|scudworth0@wordpr...|    Female|     Mexico|     El Limon|\n|  2|    Marthe|    Kippax|      mkippax1@de.vu|      Male|      China|      Zhetang|\n|  3|Petronilla|    Malser|pmalser2@miibeian...|    Female|   Bulgaria|     Karnobat|\n|  4|   Ottilie|    Fosken|ofosken3@timesonl...|    Female|    Jamaica|   Point Hill|\n|  5|      Kile|    Sorton|ksorton4@bluehost...|      Male|   Mongolia|       Arhust|\n|  6|      Buck|Gouldstraw|bgouldstraw5@yell...|Polygender|Philippines|       Liozon|\n|  7|     Fayre|    Barwis|fbarwis6@studiopr...|    Female|     Russia|Kushchëvskaya|\n|  8|       Gib|   Packman|gpackman7@princet...|    Female|  Indonesia|     Kuangsan|\n|  9|    Perice|    Wither|  pwither8@slate.com|      Male|  Indonesia|  Belung Satu|\n| 10|   Margalo|Ochterlony|mochterlony9@yout...|      Male|     Panama|     Pedregal|\n| 11|     Maddy|  Taverner|mtavernera@seattl...|      Male|Philippines|     Bungsuan|\n| 12|  Vivienne|  McCulley|vmcculleyb@wikisp...|      Male|     France|      Créteil|\n| 13|    Jamaal|    Ayliff| jayliffc@apache.org|Non-binary|      China|  Hongshanzui|\n| 14|     Betty|  Hanretty|bhanrettyd@whiteh...|      Male|Afghanistan|     Shīnḏanḏ|\n| 15|    Brandy|   Kincade|    bkincadee@qq.com|      Male|     France|     Toulouse|\n| 16| Augustine|    Tingly|   atinglyf@ox.ac.uk|      Male|   Bulgaria|      Chavdar|\n| 17|     Brent|   Finding|   bfindingg@loc.gov|      Male|      Samoa|      Faleula|\n| 18|      Gris|    Dirand|  gdirandh@goo.ne.jp|      Male|      Haiti| Port-de-Paix|\n| 19|      Kipp|    Tourle|   ktourlei@ebay.com|      Male|     France|     Le Havre|\n| 20|    Grazia|   Asquith|gasquithj@altervi...|      Male|   Malaysia|      Kuching|\n+---+----------+----------+--------------------+----------+-----------+-------------+\nonly showing top 20 rows\n\n",
       "datasetInfos": [],
       "metadata": {},
       "removedWidgets": [],
       "type": "ansi"
      }
     },
     "output_type": "display_data"
    }
   ],
   "source": [
    "rawDF.show()"
   ]
  },
  {
   "cell_type": "code",
   "execution_count": 0,
   "metadata": {
    "application/vnd.databricks.v1+cell": {
     "inputWidgets": {},
     "nuid": "e4e6d29e-1971-4329-9f16-a82bb78b715a",
     "showTitle": false,
     "title": ""
    }
   },
   "outputs": [
    {
     "data": {
      "text/plain": [
       "+---+----------+----------+----------------------------+----------+-----------+-------------+\n",
       "|id |first_name|last_name |email                       |gender    |country    |city         |\n",
       "+---+----------+----------+----------------------------+----------+-----------+-------------+\n",
       "|1  |Shane     |Cudworth  |scudworth0@wordpress.com    |Female    |Mexico     |El Limon     |\n",
       "|2  |Marthe    |Kippax    |mkippax1@de.vu              |Male      |China      |Zhetang      |\n",
       "|3  |Petronilla|Malser    |pmalser2@miibeian.gov.cn    |Female    |Bulgaria   |Karnobat     |\n",
       "|4  |Ottilie   |Fosken    |ofosken3@timesonline.co.uk  |Female    |Jamaica    |Point Hill   |\n",
       "|5  |Kile      |Sorton    |ksorton4@bluehost.com       |Male      |Mongolia   |Arhust       |\n",
       "|6  |Buck      |Gouldstraw|bgouldstraw5@yellowpages.com|Polygender|Philippines|Liozon       |\n",
       "|7  |Fayre     |Barwis    |fbarwis6@studiopress.com    |Female    |Russia     |Kushchëvskaya|\n",
       "|8  |Gib       |Packman   |gpackman7@princeton.edu     |Female    |Indonesia  |Kuangsan     |\n",
       "|9  |Perice    |Wither    |pwither8@slate.com          |Male      |Indonesia  |Belung Satu  |\n",
       "|10 |Margalo   |Ochterlony|mochterlony9@youtu.be       |Male      |Panama     |Pedregal     |\n",
       "|11 |Maddy     |Taverner  |mtavernera@seattletimes.com |Male      |Philippines|Bungsuan     |\n",
       "|12 |Vivienne  |McCulley  |vmcculleyb@wikispaces.com   |Male      |France     |Créteil      |\n",
       "|13 |Jamaal    |Ayliff    |jayliffc@apache.org         |Non-binary|China      |Hongshanzui  |\n",
       "|14 |Betty     |Hanretty  |bhanrettyd@whitehouse.gov   |Male      |Afghanistan|Shīnḏanḏ     |\n",
       "|15 |Brandy    |Kincade   |bkincadee@qq.com            |Male      |France     |Toulouse     |\n",
       "|16 |Augustine |Tingly    |atinglyf@ox.ac.uk           |Male      |Bulgaria   |Chavdar      |\n",
       "|17 |Brent     |Finding   |bfindingg@loc.gov           |Male      |Samoa      |Faleula      |\n",
       "|18 |Gris      |Dirand    |gdirandh@goo.ne.jp          |Male      |Haiti      |Port-de-Paix |\n",
       "|19 |Kipp      |Tourle    |ktourlei@ebay.com           |Male      |France     |Le Havre     |\n",
       "|20 |Grazia    |Asquith   |gasquithj@altervista.org    |Male      |Malaysia   |Kuching      |\n",
       "+---+----------+----------+----------------------------+----------+-----------+-------------+\n",
       "only showing top 20 rows\n",
       "\n"
      ]
     },
     "metadata": {
      "application/vnd.databricks.v1+output": {
       "addedWidgets": {},
       "arguments": {},
       "data": "+---+----------+----------+----------------------------+----------+-----------+-------------+\n|id |first_name|last_name |email                       |gender    |country    |city         |\n+---+----------+----------+----------------------------+----------+-----------+-------------+\n|1  |Shane     |Cudworth  |scudworth0@wordpress.com    |Female    |Mexico     |El Limon     |\n|2  |Marthe    |Kippax    |mkippax1@de.vu              |Male      |China      |Zhetang      |\n|3  |Petronilla|Malser    |pmalser2@miibeian.gov.cn    |Female    |Bulgaria   |Karnobat     |\n|4  |Ottilie   |Fosken    |ofosken3@timesonline.co.uk  |Female    |Jamaica    |Point Hill   |\n|5  |Kile      |Sorton    |ksorton4@bluehost.com       |Male      |Mongolia   |Arhust       |\n|6  |Buck      |Gouldstraw|bgouldstraw5@yellowpages.com|Polygender|Philippines|Liozon       |\n|7  |Fayre     |Barwis    |fbarwis6@studiopress.com    |Female    |Russia     |Kushchëvskaya|\n|8  |Gib       |Packman   |gpackman7@princeton.edu     |Female    |Indonesia  |Kuangsan     |\n|9  |Perice    |Wither    |pwither8@slate.com          |Male      |Indonesia  |Belung Satu  |\n|10 |Margalo   |Ochterlony|mochterlony9@youtu.be       |Male      |Panama     |Pedregal     |\n|11 |Maddy     |Taverner  |mtavernera@seattletimes.com |Male      |Philippines|Bungsuan     |\n|12 |Vivienne  |McCulley  |vmcculleyb@wikispaces.com   |Male      |France     |Créteil      |\n|13 |Jamaal    |Ayliff    |jayliffc@apache.org         |Non-binary|China      |Hongshanzui  |\n|14 |Betty     |Hanretty  |bhanrettyd@whitehouse.gov   |Male      |Afghanistan|Shīnḏanḏ     |\n|15 |Brandy    |Kincade   |bkincadee@qq.com            |Male      |France     |Toulouse     |\n|16 |Augustine |Tingly    |atinglyf@ox.ac.uk           |Male      |Bulgaria   |Chavdar      |\n|17 |Brent     |Finding   |bfindingg@loc.gov           |Male      |Samoa      |Faleula      |\n|18 |Gris      |Dirand    |gdirandh@goo.ne.jp          |Male      |Haiti      |Port-de-Paix |\n|19 |Kipp      |Tourle    |ktourlei@ebay.com           |Male      |France     |Le Havre     |\n|20 |Grazia    |Asquith   |gasquithj@altervista.org    |Male      |Malaysia   |Kuching      |\n+---+----------+----------+----------------------------+----------+-----------+-------------+\nonly showing top 20 rows\n\n",
       "datasetInfos": [],
       "metadata": {},
       "removedWidgets": [],
       "type": "ansi"
      }
     },
     "output_type": "display_data"
    }
   ],
   "source": [
    "rawDF.show(truncate=False)"
   ]
  },
  {
   "cell_type": "code",
   "execution_count": 0,
   "metadata": {
    "application/vnd.databricks.v1+cell": {
     "inputWidgets": {},
     "nuid": "0ffcbf4e-5084-4615-82cb-8033a9046a11",
     "showTitle": false,
     "title": ""
    }
   },
   "outputs": [
    {
     "data": {
      "text/plain": [
       "Out[17]: pyspark.sql.dataframe.DataFrame"
      ]
     },
     "metadata": {
      "application/vnd.databricks.v1+output": {
       "addedWidgets": {},
       "arguments": {},
       "data": "Out[17]: pyspark.sql.dataframe.DataFrame",
       "datasetInfos": [],
       "metadata": {},
       "removedWidgets": [],
       "type": "ansi"
      }
     },
     "output_type": "display_data"
    }
   ],
   "source": [
    "type(rawDF)"
   ]
  },
  {
   "cell_type": "code",
   "execution_count": 0,
   "metadata": {
    "application/vnd.databricks.v1+cell": {
     "inputWidgets": {},
     "nuid": "cd18a85e-d45f-4df1-8ab6-8144c247f4de",
     "showTitle": false,
     "title": ""
    }
   },
   "outputs": [
    {
     "data": {
      "text/plain": [
       "Out[20]: ['id', 'first_name', 'last_name', 'email', 'gender', 'country', 'city']"
      ]
     },
     "metadata": {
      "application/vnd.databricks.v1+output": {
       "addedWidgets": {},
       "arguments": {},
       "data": "Out[20]: ['id', 'first_name', 'last_name', 'email', 'gender', 'country', 'city']",
       "datasetInfos": [],
       "metadata": {},
       "removedWidgets": [],
       "type": "ansi"
      }
     },
     "output_type": "display_data"
    }
   ],
   "source": [
    "rawDF.columns"
   ]
  },
  {
   "cell_type": "code",
   "execution_count": 0,
   "metadata": {
    "application/vnd.databricks.v1+cell": {
     "inputWidgets": {},
     "nuid": "0c2c280a-e1cb-4fe9-a511-09d5798858d8",
     "showTitle": false,
     "title": ""
    }
   },
   "outputs": [
    {
     "data": {
      "text/plain": [
       "Out[21]: [Row(id=1, first_name='Shane', last_name='Cudworth', email='scudworth0@wordpress.com', gender='Female', country='Mexico', city='El Limon'),\n",
       " Row(id=2, first_name='Marthe', last_name='Kippax', email='mkippax1@de.vu', gender='Male', country='China', city='Zhetang'),\n",
       " Row(id=3, first_name='Petronilla', last_name='Malser', email='pmalser2@miibeian.gov.cn', gender='Female', country='Bulgaria', city='Karnobat')]"
      ]
     },
     "metadata": {
      "application/vnd.databricks.v1+output": {
       "addedWidgets": {},
       "arguments": {},
       "data": "Out[21]: [Row(id=1, first_name='Shane', last_name='Cudworth', email='scudworth0@wordpress.com', gender='Female', country='Mexico', city='El Limon'),\n Row(id=2, first_name='Marthe', last_name='Kippax', email='mkippax1@de.vu', gender='Male', country='China', city='Zhetang'),\n Row(id=3, first_name='Petronilla', last_name='Malser', email='pmalser2@miibeian.gov.cn', gender='Female', country='Bulgaria', city='Karnobat')]",
       "datasetInfos": [],
       "metadata": {},
       "removedWidgets": [],
       "type": "ansi"
      }
     },
     "output_type": "display_data"
    }
   ],
   "source": [
    "rawDF.head(3)"
   ]
  },
  {
   "cell_type": "code",
   "execution_count": 0,
   "metadata": {
    "application/vnd.databricks.v1+cell": {
     "inputWidgets": {},
     "nuid": "0a102a32-add3-4977-a5ca-5c6a0860505e",
     "showTitle": false,
     "title": ""
    }
   },
   "outputs": [],
   "source": [
    "nameCountryDF = rawDF.select('first_name','country')"
   ]
  },
  {
   "cell_type": "code",
   "execution_count": 0,
   "metadata": {
    "application/vnd.databricks.v1+cell": {
     "inputWidgets": {},
     "nuid": "e58b198a-9d0c-44e4-bcfc-a4b724c9280f",
     "showTitle": false,
     "title": ""
    }
   },
   "outputs": [
    {
     "data": {
      "text/plain": [
       "+----------+-----------+\n",
       "|first_name|    country|\n",
       "+----------+-----------+\n",
       "|     Shane|     Mexico|\n",
       "|    Marthe|      China|\n",
       "|Petronilla|   Bulgaria|\n",
       "|   Ottilie|    Jamaica|\n",
       "|      Kile|   Mongolia|\n",
       "|      Buck|Philippines|\n",
       "|     Fayre|     Russia|\n",
       "|       Gib|  Indonesia|\n",
       "|    Perice|  Indonesia|\n",
       "|   Margalo|     Panama|\n",
       "|     Maddy|Philippines|\n",
       "|  Vivienne|     France|\n",
       "|    Jamaal|      China|\n",
       "|     Betty|Afghanistan|\n",
       "|    Brandy|     France|\n",
       "| Augustine|   Bulgaria|\n",
       "|     Brent|      Samoa|\n",
       "|      Gris|      Haiti|\n",
       "|      Kipp|     France|\n",
       "|    Grazia|   Malaysia|\n",
       "+----------+-----------+\n",
       "only showing top 20 rows\n",
       "\n"
      ]
     },
     "metadata": {
      "application/vnd.databricks.v1+output": {
       "addedWidgets": {},
       "arguments": {},
       "data": "+----------+-----------+\n|first_name|    country|\n+----------+-----------+\n|     Shane|     Mexico|\n|    Marthe|      China|\n|Petronilla|   Bulgaria|\n|   Ottilie|    Jamaica|\n|      Kile|   Mongolia|\n|      Buck|Philippines|\n|     Fayre|     Russia|\n|       Gib|  Indonesia|\n|    Perice|  Indonesia|\n|   Margalo|     Panama|\n|     Maddy|Philippines|\n|  Vivienne|     France|\n|    Jamaal|      China|\n|     Betty|Afghanistan|\n|    Brandy|     France|\n| Augustine|   Bulgaria|\n|     Brent|      Samoa|\n|      Gris|      Haiti|\n|      Kipp|     France|\n|    Grazia|   Malaysia|\n+----------+-----------+\nonly showing top 20 rows\n\n",
       "datasetInfos": [],
       "metadata": {},
       "removedWidgets": [],
       "type": "ansi"
      }
     },
     "output_type": "display_data"
    }
   ],
   "source": [
    "nameCountryDF.show()"
   ]
  },
  {
   "cell_type": "code",
   "execution_count": 0,
   "metadata": {
    "application/vnd.databricks.v1+cell": {
     "inputWidgets": {},
     "nuid": "c4d6acfa-d8c6-4866-acf9-00e5147af36f",
     "showTitle": false,
     "title": ""
    }
   },
   "outputs": [
    {
     "data": {
      "text/plain": [
       "+-------+-----------------+----------+---------+--------------------+----------+-----------+-----------+\n",
       "|summary|               id|first_name|last_name|               email|    gender|    country|       city|\n",
       "+-------+-----------------+----------+---------+--------------------+----------+-----------+-----------+\n",
       "|  count|             1000|      1000|     1000|                1000|      1000|       1000|       1000|\n",
       "|   mean|            500.5|      null|     null|                null|      null|       null|       null|\n",
       "| stddev|288.8194360957494|      null|     null|                null|      null|       null|       null|\n",
       "|    min|                1|       Abe|    Abeau|aabisettib4@faceb...|   Agender|Afghanistan|'Ali Sabieh|\n",
       "|    max|             1000|     Zorah|    Zoppo|zseebornelp@daily...|Polygender|     Zambia|    ‘Arīqah|\n",
       "+-------+-----------------+----------+---------+--------------------+----------+-----------+-----------+\n",
       "\n"
      ]
     },
     "metadata": {
      "application/vnd.databricks.v1+output": {
       "addedWidgets": {},
       "arguments": {},
       "data": "+-------+-----------------+----------+---------+--------------------+----------+-----------+-----------+\n|summary|               id|first_name|last_name|               email|    gender|    country|       city|\n+-------+-----------------+----------+---------+--------------------+----------+-----------+-----------+\n|  count|             1000|      1000|     1000|                1000|      1000|       1000|       1000|\n|   mean|            500.5|      null|     null|                null|      null|       null|       null|\n| stddev|288.8194360957494|      null|     null|                null|      null|       null|       null|\n|    min|                1|       Abe|    Abeau|aabisettib4@faceb...|   Agender|Afghanistan|'Ali Sabieh|\n|    max|             1000|     Zorah|    Zoppo|zseebornelp@daily...|Polygender|     Zambia|    ‘Arīqah|\n+-------+-----------------+----------+---------+--------------------+----------+-----------+-----------+\n\n",
       "datasetInfos": [],
       "metadata": {},
       "removedWidgets": [],
       "type": "ansi"
      }
     },
     "output_type": "display_data"
    }
   ],
   "source": [
    "rawDF.describe().show()"
   ]
  },
  {
   "cell_type": "code",
   "execution_count": 0,
   "metadata": {
    "application/vnd.databricks.v1+cell": {
     "inputWidgets": {},
     "nuid": "88ca9696-6d7d-4e0d-9323-bc41d5d4cff3",
     "showTitle": false,
     "title": ""
    }
   },
   "outputs": [],
   "source": [
    "newIdDF = rawDF.withColumn('new_id',rawDF['id']+1000)"
   ]
  },
  {
   "cell_type": "code",
   "execution_count": 0,
   "metadata": {
    "application/vnd.databricks.v1+cell": {
     "inputWidgets": {},
     "nuid": "f95384bb-11b6-404f-984d-9eb29b23bb47",
     "showTitle": false,
     "title": ""
    }
   },
   "outputs": [
    {
     "data": {
      "text/plain": [
       "+---+----------+----------+--------------------+----------+-----------+-------------+------+\n",
       "| id|first_name| last_name|               email|    gender|    country|         city|new_id|\n",
       "+---+----------+----------+--------------------+----------+-----------+-------------+------+\n",
       "|  1|     Shane|  Cudworth|scudworth0@wordpr...|    Female|     Mexico|     El Limon|  1001|\n",
       "|  2|    Marthe|    Kippax|      mkippax1@de.vu|      Male|      China|      Zhetang|  1002|\n",
       "|  3|Petronilla|    Malser|pmalser2@miibeian...|    Female|   Bulgaria|     Karnobat|  1003|\n",
       "|  4|   Ottilie|    Fosken|ofosken3@timesonl...|    Female|    Jamaica|   Point Hill|  1004|\n",
       "|  5|      Kile|    Sorton|ksorton4@bluehost...|      Male|   Mongolia|       Arhust|  1005|\n",
       "|  6|      Buck|Gouldstraw|bgouldstraw5@yell...|Polygender|Philippines|       Liozon|  1006|\n",
       "|  7|     Fayre|    Barwis|fbarwis6@studiopr...|    Female|     Russia|Kushchëvskaya|  1007|\n",
       "|  8|       Gib|   Packman|gpackman7@princet...|    Female|  Indonesia|     Kuangsan|  1008|\n",
       "|  9|    Perice|    Wither|  pwither8@slate.com|      Male|  Indonesia|  Belung Satu|  1009|\n",
       "| 10|   Margalo|Ochterlony|mochterlony9@yout...|      Male|     Panama|     Pedregal|  1010|\n",
       "| 11|     Maddy|  Taverner|mtavernera@seattl...|      Male|Philippines|     Bungsuan|  1011|\n",
       "| 12|  Vivienne|  McCulley|vmcculleyb@wikisp...|      Male|     France|      Créteil|  1012|\n",
       "| 13|    Jamaal|    Ayliff| jayliffc@apache.org|Non-binary|      China|  Hongshanzui|  1013|\n",
       "| 14|     Betty|  Hanretty|bhanrettyd@whiteh...|      Male|Afghanistan|     Shīnḏanḏ|  1014|\n",
       "| 15|    Brandy|   Kincade|    bkincadee@qq.com|      Male|     France|     Toulouse|  1015|\n",
       "| 16| Augustine|    Tingly|   atinglyf@ox.ac.uk|      Male|   Bulgaria|      Chavdar|  1016|\n",
       "| 17|     Brent|   Finding|   bfindingg@loc.gov|      Male|      Samoa|      Faleula|  1017|\n",
       "| 18|      Gris|    Dirand|  gdirandh@goo.ne.jp|      Male|      Haiti| Port-de-Paix|  1018|\n",
       "| 19|      Kipp|    Tourle|   ktourlei@ebay.com|      Male|     France|     Le Havre|  1019|\n",
       "| 20|    Grazia|   Asquith|gasquithj@altervi...|      Male|   Malaysia|      Kuching|  1020|\n",
       "+---+----------+----------+--------------------+----------+-----------+-------------+------+\n",
       "only showing top 20 rows\n",
       "\n"
      ]
     },
     "metadata": {
      "application/vnd.databricks.v1+output": {
       "addedWidgets": {},
       "arguments": {},
       "data": "+---+----------+----------+--------------------+----------+-----------+-------------+------+\n| id|first_name| last_name|               email|    gender|    country|         city|new_id|\n+---+----------+----------+--------------------+----------+-----------+-------------+------+\n|  1|     Shane|  Cudworth|scudworth0@wordpr...|    Female|     Mexico|     El Limon|  1001|\n|  2|    Marthe|    Kippax|      mkippax1@de.vu|      Male|      China|      Zhetang|  1002|\n|  3|Petronilla|    Malser|pmalser2@miibeian...|    Female|   Bulgaria|     Karnobat|  1003|\n|  4|   Ottilie|    Fosken|ofosken3@timesonl...|    Female|    Jamaica|   Point Hill|  1004|\n|  5|      Kile|    Sorton|ksorton4@bluehost...|      Male|   Mongolia|       Arhust|  1005|\n|  6|      Buck|Gouldstraw|bgouldstraw5@yell...|Polygender|Philippines|       Liozon|  1006|\n|  7|     Fayre|    Barwis|fbarwis6@studiopr...|    Female|     Russia|Kushchëvskaya|  1007|\n|  8|       Gib|   Packman|gpackman7@princet...|    Female|  Indonesia|     Kuangsan|  1008|\n|  9|    Perice|    Wither|  pwither8@slate.com|      Male|  Indonesia|  Belung Satu|  1009|\n| 10|   Margalo|Ochterlony|mochterlony9@yout...|      Male|     Panama|     Pedregal|  1010|\n| 11|     Maddy|  Taverner|mtavernera@seattl...|      Male|Philippines|     Bungsuan|  1011|\n| 12|  Vivienne|  McCulley|vmcculleyb@wikisp...|      Male|     France|      Créteil|  1012|\n| 13|    Jamaal|    Ayliff| jayliffc@apache.org|Non-binary|      China|  Hongshanzui|  1013|\n| 14|     Betty|  Hanretty|bhanrettyd@whiteh...|      Male|Afghanistan|     Shīnḏanḏ|  1014|\n| 15|    Brandy|   Kincade|    bkincadee@qq.com|      Male|     France|     Toulouse|  1015|\n| 16| Augustine|    Tingly|   atinglyf@ox.ac.uk|      Male|   Bulgaria|      Chavdar|  1016|\n| 17|     Brent|   Finding|   bfindingg@loc.gov|      Male|      Samoa|      Faleula|  1017|\n| 18|      Gris|    Dirand|  gdirandh@goo.ne.jp|      Male|      Haiti| Port-de-Paix|  1018|\n| 19|      Kipp|    Tourle|   ktourlei@ebay.com|      Male|     France|     Le Havre|  1019|\n| 20|    Grazia|   Asquith|gasquithj@altervi...|      Male|   Malaysia|      Kuching|  1020|\n+---+----------+----------+--------------------+----------+-----------+-------------+------+\nonly showing top 20 rows\n\n",
       "datasetInfos": [],
       "metadata": {},
       "removedWidgets": [],
       "type": "ansi"
      }
     },
     "output_type": "display_data"
    }
   ],
   "source": [
    "newIdDF.show()"
   ]
  },
  {
   "cell_type": "code",
   "execution_count": 0,
   "metadata": {
    "application/vnd.databricks.v1+cell": {
     "inputWidgets": {},
     "nuid": "8ba71950-967a-4085-b71b-5b0ede4bacdc",
     "showTitle": false,
     "title": ""
    }
   },
   "outputs": [],
   "source": [
    "countByCityDF = rawDF.groupBy('country').count()"
   ]
  },
  {
   "cell_type": "code",
   "execution_count": 0,
   "metadata": {
    "application/vnd.databricks.v1+cell": {
     "inputWidgets": {},
     "nuid": "dca5fdf1-e6be-421c-8764-ee196b9cac3b",
     "showTitle": false,
     "title": ""
    }
   },
   "outputs": [
    {
     "data": {
      "text/plain": [
       "+-----------+-----+\n",
       "|    country|count|\n",
       "+-----------+-----+\n",
       "|       Chad|    1|\n",
       "|     Russia|   71|\n",
       "|   Paraguay|    2|\n",
       "|      Yemen|    5|\n",
       "|     Sweden|   17|\n",
       "|   Kiribati|    1|\n",
       "|     Guyana|    1|\n",
       "|Philippines|   52|\n",
       "|   Djibouti|    1|\n",
       "|   Malaysia|   11|\n",
       "|     Turkey|    1|\n",
       "|    Germany|    3|\n",
       "|    Comoros|    3|\n",
       "|Afghanistan|    4|\n",
       "|Ivory Coast|    2|\n",
       "|     Rwanda|    1|\n",
       "|     Jordan|    4|\n",
       "|     France|   28|\n",
       "|     Greece|   23|\n",
       "|     Kosovo|    1|\n",
       "+-----------+-----+\n",
       "only showing top 20 rows\n",
       "\n"
      ]
     },
     "metadata": {
      "application/vnd.databricks.v1+output": {
       "addedWidgets": {},
       "arguments": {},
       "data": "+-----------+-----+\n|    country|count|\n+-----------+-----+\n|       Chad|    1|\n|     Russia|   71|\n|   Paraguay|    2|\n|      Yemen|    5|\n|     Sweden|   17|\n|   Kiribati|    1|\n|     Guyana|    1|\n|Philippines|   52|\n|   Djibouti|    1|\n|   Malaysia|   11|\n|     Turkey|    1|\n|    Germany|    3|\n|    Comoros|    3|\n|Afghanistan|    4|\n|Ivory Coast|    2|\n|     Rwanda|    1|\n|     Jordan|    4|\n|     France|   28|\n|     Greece|   23|\n|     Kosovo|    1|\n+-----------+-----+\nonly showing top 20 rows\n\n",
       "datasetInfos": [],
       "metadata": {},
       "removedWidgets": [],
       "type": "ansi"
      }
     },
     "output_type": "display_data"
    }
   ],
   "source": [
    "countByCityDF.show()"
   ]
  },
  {
   "cell_type": "code",
   "execution_count": 0,
   "metadata": {
    "application/vnd.databricks.v1+cell": {
     "inputWidgets": {},
     "nuid": "48410a7b-c873-4e28-8c2c-ecf0cc488578",
     "showTitle": false,
     "title": ""
    }
   },
   "outputs": [
    {
     "data": {
      "text/plain": [
       "+-----------+-----+\n",
       "|    country|count|\n",
       "+-----------+-----+\n",
       "|       Chad|    1|\n",
       "|     Russia|   71|\n",
       "|   Paraguay|    2|\n",
       "|      Yemen|    5|\n",
       "|     Sweden|   17|\n",
       "|   Kiribati|    1|\n",
       "|     Guyana|    1|\n",
       "|Philippines|   52|\n",
       "|   Djibouti|    1|\n",
       "|   Malaysia|   11|\n",
       "|     Turkey|    1|\n",
       "|    Germany|    3|\n",
       "|    Comoros|    3|\n",
       "|Afghanistan|    4|\n",
       "|Ivory Coast|    2|\n",
       "|     Rwanda|    1|\n",
       "|     Jordan|    4|\n",
       "|     France|   28|\n",
       "|     Greece|   23|\n",
       "|     Kosovo|    1|\n",
       "+-----------+-----+\n",
       "only showing top 20 rows\n",
       "\n"
      ]
     },
     "metadata": {
      "application/vnd.databricks.v1+output": {
       "addedWidgets": {},
       "arguments": {},
       "data": "+-----------+-----+\n|    country|count|\n+-----------+-----+\n|       Chad|    1|\n|     Russia|   71|\n|   Paraguay|    2|\n|      Yemen|    5|\n|     Sweden|   17|\n|   Kiribati|    1|\n|     Guyana|    1|\n|Philippines|   52|\n|   Djibouti|    1|\n|   Malaysia|   11|\n|     Turkey|    1|\n|    Germany|    3|\n|    Comoros|    3|\n|Afghanistan|    4|\n|Ivory Coast|    2|\n|     Rwanda|    1|\n|     Jordan|    4|\n|     France|   28|\n|     Greece|   23|\n|     Kosovo|    1|\n+-----------+-----+\nonly showing top 20 rows\n\n",
       "datasetInfos": [],
       "metadata": {},
       "removedWidgets": [],
       "type": "ansi"
      }
     },
     "output_type": "display_data"
    }
   ],
   "source": [
    "rawDF.select('first_name','country').groupBy('country').count().show()"
   ]
  },
  {
   "cell_type": "code",
   "execution_count": 0,
   "metadata": {
    "application/vnd.databricks.v1+cell": {
     "inputWidgets": {},
     "nuid": "971acb46-7a8d-41a5-a410-12ebd42eee15",
     "showTitle": false,
     "title": ""
    }
   },
   "outputs": [
    {
     "data": {
      "text/plain": [
       "+---+----------+---------+-----------------+------+-------+-------+\n",
       "| id|first_name|last_name|            email|gender|country|   city|\n",
       "+---+----------+---------+-----------------+------+-------+-------+\n",
       "|714|      Aili| Mc Grath|amcgrathjt@vk.com|  Male| Turkey|Yeniköy|\n",
       "+---+----------+---------+-----------------+------+-------+-------+\n",
       "\n"
      ]
     },
     "metadata": {
      "application/vnd.databricks.v1+output": {
       "addedWidgets": {},
       "arguments": {},
       "data": "+---+----------+---------+-----------------+------+-------+-------+\n| id|first_name|last_name|            email|gender|country|   city|\n+---+----------+---------+-----------------+------+-------+-------+\n|714|      Aili| Mc Grath|amcgrathjt@vk.com|  Male| Turkey|Yeniköy|\n+---+----------+---------+-----------------+------+-------+-------+\n\n",
       "datasetInfos": [],
       "metadata": {},
       "removedWidgets": [],
       "type": "ansi"
      }
     },
     "output_type": "display_data"
    }
   ],
   "source": [
    "rawDF.filter(\"country='Turkey'\").show()"
   ]
  },
  {
   "cell_type": "code",
   "execution_count": 0,
   "metadata": {
    "application/vnd.databricks.v1+cell": {
     "inputWidgets": {},
     "nuid": "d301832d-aa05-46a9-ada2-3efeb69796b3",
     "showTitle": false,
     "title": ""
    }
   },
   "outputs": [
    {
     "data": {
      "text/plain": [
       "+---+----------+----------+--------------------+-------+-----------+----------------+\n",
       "| id|first_name| last_name|               email| gender|    country|            city|\n",
       "+---+----------+----------+--------------------+-------+-----------+----------------+\n",
       "|501|      Akim|       Pee|    apeedw@google.cn|   Male|   Thailand|       Wiphawadi|\n",
       "|502|   Valaria|      Noli|     vnolidx@irs.gov| Female|   Thailand|       Tha Muang|\n",
       "|503|   Jemimah|    Lovart|   jlovartdy@php.net|   Male|      China|     Yangxunqiao|\n",
       "|504|     Adair|    Rollin|arollindz@feedbur...|   Male|     France|        Paris 16|\n",
       "|505|    Vonnie|MacKnocker|vmacknockere0@tum...| Female|      China|       Xiangyang|\n",
       "|506|     Lyell| Yitzovicz|lyitzovicze1@squi...|   Male|     Russia|Petropavlovskaya|\n",
       "|507|  Humfried|      Gabb|hgabbe2@posterous...| Female| Tajikistan|        Danghara|\n",
       "|508|     Tracy|  Sketcher|tsketchere3@drupa...|   Male|     Russia|          Valday|\n",
       "|509|   Fabiano|    Callam|fcallame4@seesaa.net| Female|      China|       Huangling|\n",
       "|510|    Dorine|    Pollok| dpolloke5@amazon.de|   Male|   Malaysia|          Melaka|\n",
       "|511|    Pascal|  Mallabar|pmallabare6@addth...|Agender|     Sweden|          Kalmar|\n",
       "|512|     Julio|     Twort| jtworte7@devhub.com| Female|    Burundi|         Makamba|\n",
       "|513|    Karrie|  Fronczak|kfronczake8@admin.ch| Female|      Kenya|           Thika|\n",
       "|514|    Agathe|  Alldritt|aalldritte9@googl...|   Male|Philippines|            Oton|\n",
       "|515|      Alie| Woodroffe|awoodroffeea@free.fr|   Male|    Croatia|         Goričan|\n",
       "|516|     Tabby| Harrinson|tharrinsoneb@goog...| Female|     Mexico|  Miguel Hidalgo|\n",
       "|517|     Lacie|     Karus|lkarusec@macromed...|   Male|New Zealand|      Otorohanga|\n",
       "|518|   Aurelia|   Mannagh|amannaghed@hubpag...| Female| Azerbaijan|    Divichibazar|\n",
       "|519|    Dieter|  Mattioni|dmattioniee@image...| Female|  Indonesia|         Ciputat|\n",
       "|520|   Loraine| Decayette|ldecayetteef@squi...|   Male|   Portugal|  Praia da Barra|\n",
       "+---+----------+----------+--------------------+-------+-----------+----------------+\n",
       "only showing top 20 rows\n",
       "\n"
      ]
     },
     "metadata": {
      "application/vnd.databricks.v1+output": {
       "addedWidgets": {},
       "arguments": {},
       "data": "+---+----------+----------+--------------------+-------+-----------+----------------+\n| id|first_name| last_name|               email| gender|    country|            city|\n+---+----------+----------+--------------------+-------+-----------+----------------+\n|501|      Akim|       Pee|    apeedw@google.cn|   Male|   Thailand|       Wiphawadi|\n|502|   Valaria|      Noli|     vnolidx@irs.gov| Female|   Thailand|       Tha Muang|\n|503|   Jemimah|    Lovart|   jlovartdy@php.net|   Male|      China|     Yangxunqiao|\n|504|     Adair|    Rollin|arollindz@feedbur...|   Male|     France|        Paris 16|\n|505|    Vonnie|MacKnocker|vmacknockere0@tum...| Female|      China|       Xiangyang|\n|506|     Lyell| Yitzovicz|lyitzovicze1@squi...|   Male|     Russia|Petropavlovskaya|\n|507|  Humfried|      Gabb|hgabbe2@posterous...| Female| Tajikistan|        Danghara|\n|508|     Tracy|  Sketcher|tsketchere3@drupa...|   Male|     Russia|          Valday|\n|509|   Fabiano|    Callam|fcallame4@seesaa.net| Female|      China|       Huangling|\n|510|    Dorine|    Pollok| dpolloke5@amazon.de|   Male|   Malaysia|          Melaka|\n|511|    Pascal|  Mallabar|pmallabare6@addth...|Agender|     Sweden|          Kalmar|\n|512|     Julio|     Twort| jtworte7@devhub.com| Female|    Burundi|         Makamba|\n|513|    Karrie|  Fronczak|kfronczake8@admin.ch| Female|      Kenya|           Thika|\n|514|    Agathe|  Alldritt|aalldritte9@googl...|   Male|Philippines|            Oton|\n|515|      Alie| Woodroffe|awoodroffeea@free.fr|   Male|    Croatia|         Goričan|\n|516|     Tabby| Harrinson|tharrinsoneb@goog...| Female|     Mexico|  Miguel Hidalgo|\n|517|     Lacie|     Karus|lkarusec@macromed...|   Male|New Zealand|      Otorohanga|\n|518|   Aurelia|   Mannagh|amannaghed@hubpag...| Female| Azerbaijan|    Divichibazar|\n|519|    Dieter|  Mattioni|dmattioniee@image...| Female|  Indonesia|         Ciputat|\n|520|   Loraine| Decayette|ldecayetteef@squi...|   Male|   Portugal|  Praia da Barra|\n+---+----------+----------+--------------------+-------+-----------+----------------+\nonly showing top 20 rows\n\n",
       "datasetInfos": [],
       "metadata": {},
       "removedWidgets": [],
       "type": "ansi"
      }
     },
     "output_type": "display_data"
    }
   ],
   "source": [
    "rawDF.filter(\"id>500\").show()"
   ]
  },
  {
   "cell_type": "code",
   "execution_count": 0,
   "metadata": {
    "application/vnd.databricks.v1+cell": {
     "inputWidgets": {},
     "nuid": "bb806984-b471-4990-b369-1924f24e8997",
     "showTitle": false,
     "title": ""
    }
   },
   "outputs": [],
   "source": [
    "rawDFwoEmail = rawDF.drop('email')"
   ]
  },
  {
   "cell_type": "code",
   "execution_count": 0,
   "metadata": {
    "application/vnd.databricks.v1+cell": {
     "inputWidgets": {},
     "nuid": "287eec87-55e9-4e41-8206-429b355480e7",
     "showTitle": false,
     "title": ""
    }
   },
   "outputs": [
    {
     "data": {
      "text/plain": [
       "+---+----------+----------+----------+-----------+-------------+\n",
       "| id| firstname|  lastname|    gender|    country|         city|\n",
       "+---+----------+----------+----------+-----------+-------------+\n",
       "|  1|     Shane|  Cudworth|    Female|     Mexico|     El Limon|\n",
       "|  2|    Marthe|    Kippax|      Male|      China|      Zhetang|\n",
       "|  3|Petronilla|    Malser|    Female|   Bulgaria|     Karnobat|\n",
       "|  4|   Ottilie|    Fosken|    Female|    Jamaica|   Point Hill|\n",
       "|  5|      Kile|    Sorton|      Male|   Mongolia|       Arhust|\n",
       "|  6|      Buck|Gouldstraw|Polygender|Philippines|       Liozon|\n",
       "|  7|     Fayre|    Barwis|    Female|     Russia|Kushchëvskaya|\n",
       "|  8|       Gib|   Packman|    Female|  Indonesia|     Kuangsan|\n",
       "|  9|    Perice|    Wither|      Male|  Indonesia|  Belung Satu|\n",
       "| 10|   Margalo|Ochterlony|      Male|     Panama|     Pedregal|\n",
       "| 11|     Maddy|  Taverner|      Male|Philippines|     Bungsuan|\n",
       "| 12|  Vivienne|  McCulley|      Male|     France|      Créteil|\n",
       "| 13|    Jamaal|    Ayliff|Non-binary|      China|  Hongshanzui|\n",
       "| 14|     Betty|  Hanretty|      Male|Afghanistan|     Shīnḏanḏ|\n",
       "| 15|    Brandy|   Kincade|      Male|     France|     Toulouse|\n",
       "| 16| Augustine|    Tingly|      Male|   Bulgaria|      Chavdar|\n",
       "| 17|     Brent|   Finding|      Male|      Samoa|      Faleula|\n",
       "| 18|      Gris|    Dirand|      Male|      Haiti| Port-de-Paix|\n",
       "| 19|      Kipp|    Tourle|      Male|     France|     Le Havre|\n",
       "| 20|    Grazia|   Asquith|      Male|   Malaysia|      Kuching|\n",
       "+---+----------+----------+----------+-----------+-------------+\n",
       "only showing top 20 rows\n",
       "\n"
      ]
     },
     "metadata": {
      "application/vnd.databricks.v1+output": {
       "addedWidgets": {},
       "arguments": {},
       "data": "+---+----------+----------+----------+-----------+-------------+\n| id| firstname|  lastname|    gender|    country|         city|\n+---+----------+----------+----------+-----------+-------------+\n|  1|     Shane|  Cudworth|    Female|     Mexico|     El Limon|\n|  2|    Marthe|    Kippax|      Male|      China|      Zhetang|\n|  3|Petronilla|    Malser|    Female|   Bulgaria|     Karnobat|\n|  4|   Ottilie|    Fosken|    Female|    Jamaica|   Point Hill|\n|  5|      Kile|    Sorton|      Male|   Mongolia|       Arhust|\n|  6|      Buck|Gouldstraw|Polygender|Philippines|       Liozon|\n|  7|     Fayre|    Barwis|    Female|     Russia|Kushchëvskaya|\n|  8|       Gib|   Packman|    Female|  Indonesia|     Kuangsan|\n|  9|    Perice|    Wither|      Male|  Indonesia|  Belung Satu|\n| 10|   Margalo|Ochterlony|      Male|     Panama|     Pedregal|\n| 11|     Maddy|  Taverner|      Male|Philippines|     Bungsuan|\n| 12|  Vivienne|  McCulley|      Male|     France|      Créteil|\n| 13|    Jamaal|    Ayliff|Non-binary|      China|  Hongshanzui|\n| 14|     Betty|  Hanretty|      Male|Afghanistan|     Shīnḏanḏ|\n| 15|    Brandy|   Kincade|      Male|     France|     Toulouse|\n| 16| Augustine|    Tingly|      Male|   Bulgaria|      Chavdar|\n| 17|     Brent|   Finding|      Male|      Samoa|      Faleula|\n| 18|      Gris|    Dirand|      Male|      Haiti| Port-de-Paix|\n| 19|      Kipp|    Tourle|      Male|     France|     Le Havre|\n| 20|    Grazia|   Asquith|      Male|   Malaysia|      Kuching|\n+---+----------+----------+----------+-----------+-------------+\nonly showing top 20 rows\n\n",
       "datasetInfos": [],
       "metadata": {},
       "removedWidgets": [],
       "type": "ansi"
      }
     },
     "output_type": "display_data"
    }
   ],
   "source": [
    "rawDFwoEmail.withColumnRenamed('first_name','firstname').withColumnRenamed('last_name','lastname').show()"
   ]
  },
  {
   "cell_type": "code",
   "execution_count": 0,
   "metadata": {
    "application/vnd.databricks.v1+cell": {
     "inputWidgets": {},
     "nuid": "b84d7adf-c382-40be-bf1f-09f4c49ced59",
     "showTitle": false,
     "title": ""
    }
   },
   "outputs": [],
   "source": [
    "countByCountryDF = rawDF.select('first_name','country').groupBy('country').count().orderBy('count',ascending=False)"
   ]
  },
  {
   "cell_type": "code",
   "execution_count": 0,
   "metadata": {
    "application/vnd.databricks.v1+cell": {
     "inputWidgets": {},
     "nuid": "ec566e63-066a-454a-bf86-17179302f281",
     "showTitle": false,
     "title": ""
    }
   },
   "outputs": [
    {
     "data": {
      "text/html": [
       "<style scoped>\n",
       "  .table-result-container {\n",
       "    max-height: 300px;\n",
       "    overflow: auto;\n",
       "  }\n",
       "  table, th, td {\n",
       "    border: 1px solid black;\n",
       "    border-collapse: collapse;\n",
       "  }\n",
       "  th, td {\n",
       "    padding: 5px;\n",
       "  }\n",
       "  th {\n",
       "    text-align: left;\n",
       "  }\n",
       "</style><div class='table-result-container'><table class='table-result'><thead style='background-color: white'><tr><th>country</th><th>count</th></tr></thead><tbody><tr><td>China</td><td>178</td></tr><tr><td>Indonesia</td><td>102</td></tr><tr><td>Russia</td><td>71</td></tr><tr><td>Philippines</td><td>52</td></tr><tr><td>Portugal</td><td>36</td></tr><tr><td>Poland</td><td>32</td></tr><tr><td>Brazil</td><td>31</td></tr><tr><td>France</td><td>28</td></tr><tr><td>Japan</td><td>24</td></tr><tr><td>Greece</td><td>23</td></tr><tr><td>United States</td><td>21</td></tr><tr><td>Peru</td><td>18</td></tr><tr><td>Sweden</td><td>17</td></tr><tr><td>Colombia</td><td>17</td></tr><tr><td>Canada</td><td>14</td></tr><tr><td>Czech Republic</td><td>13</td></tr><tr><td>Ukraine</td><td>13</td></tr><tr><td>Malaysia</td><td>11</td></tr><tr><td>Mexico</td><td>11</td></tr><tr><td>Nigeria</td><td>11</td></tr><tr><td>Iran</td><td>11</td></tr><tr><td>Vietnam</td><td>10</td></tr><tr><td>Thailand</td><td>10</td></tr><tr><td>Croatia</td><td>7</td></tr><tr><td>Kazakhstan</td><td>7</td></tr><tr><td>Finland</td><td>7</td></tr><tr><td>Argentina</td><td>6</td></tr><tr><td>Venezuela</td><td>6</td></tr><tr><td>Yemen</td><td>5</td></tr><tr><td>Norway</td><td>5</td></tr><tr><td>Uzbekistan</td><td>5</td></tr><tr><td>Jordan</td><td>4</td></tr><tr><td>Bangladesh</td><td>4</td></tr><tr><td>Mongolia</td><td>4</td></tr><tr><td>Syria</td><td>4</td></tr><tr><td>Belarus</td><td>4</td></tr><tr><td>Ireland</td><td>4</td></tr><tr><td>Morocco</td><td>4</td></tr><tr><td>Panama</td><td>4</td></tr><tr><td>South Korea</td><td>4</td></tr><tr><td>Azerbaijan</td><td>4</td></tr><tr><td>Tunisia</td><td>4</td></tr><tr><td>Honduras</td><td>4</td></tr><tr><td>Bulgaria</td><td>4</td></tr><tr><td>Serbia</td><td>4</td></tr><tr><td>Afghanistan</td><td>4</td></tr><tr><td>Tajikistan</td><td>4</td></tr><tr><td>Albania</td><td>3</td></tr><tr><td>Madagascar</td><td>3</td></tr><tr><td>Namibia</td><td>3</td></tr><tr><td>Germany</td><td>3</td></tr><tr><td>Sri Lanka</td><td>3</td></tr><tr><td>Nicaragua</td><td>3</td></tr><tr><td>Palestinian Territory</td><td>3</td></tr><tr><td>Cuba</td><td>3</td></tr><tr><td>Ethiopia</td><td>3</td></tr><tr><td>Luxembourg</td><td>3</td></tr><tr><td>United Kingdom</td><td>3</td></tr><tr><td>Comoros</td><td>3</td></tr><tr><td>Uganda</td><td>3</td></tr><tr><td>Republic of the Congo</td><td>2</td></tr><tr><td>Ghana</td><td>2</td></tr><tr><td>Central African Republic</td><td>2</td></tr><tr><td>Armenia</td><td>2</td></tr><tr><td>Kenya</td><td>2</td></tr><tr><td>Haiti</td><td>2</td></tr><tr><td>New Zealand</td><td>2</td></tr><tr><td>Benin</td><td>2</td></tr><tr><td>North Korea</td><td>2</td></tr><tr><td>Estonia</td><td>2</td></tr><tr><td>Liberia</td><td>2</td></tr><tr><td>Slovenia</td><td>2</td></tr><tr><td>Botswana</td><td>2</td></tr><tr><td>South Africa</td><td>2</td></tr><tr><td>Netherlands</td><td>2</td></tr><tr><td>Bosnia and Herzegovina</td><td>2</td></tr><tr><td>Ivory Coast</td><td>2</td></tr><tr><td>Italy</td><td>2</td></tr><tr><td>Chile</td><td>2</td></tr><tr><td>Guatemala</td><td>2</td></tr><tr><td>Macedonia</td><td>2</td></tr><tr><td>Tanzania</td><td>2</td></tr><tr><td>Pakistan</td><td>2</td></tr><tr><td>Paraguay</td><td>2</td></tr><tr><td>Ecuador</td><td>2</td></tr><tr><td>Chad</td><td>1</td></tr><tr><td>Kiribati</td><td>1</td></tr><tr><td>Marshall Islands</td><td>1</td></tr><tr><td>Mauritius</td><td>1</td></tr><tr><td>Guyana</td><td>1</td></tr><tr><td>Tuvalu</td><td>1</td></tr><tr><td>Zambia</td><td>1</td></tr><tr><td>Moldova</td><td>1</td></tr><tr><td>Djibouti</td><td>1</td></tr><tr><td>Martinique</td><td>1</td></tr><tr><td>Democratic Republic of the Congo</td><td>1</td></tr><tr><td>Jamaica</td><td>1</td></tr><tr><td>Belize</td><td>1</td></tr><tr><td>Mali</td><td>1</td></tr><tr><td>Turkey</td><td>1</td></tr><tr><td>Kosovo</td><td>1</td></tr><tr><td>Burundi</td><td>1</td></tr><tr><td>Bolivia</td><td>1</td></tr><tr><td>Nauru</td><td>1</td></tr><tr><td>Cyprus</td><td>1</td></tr><tr><td>Latvia</td><td>1</td></tr><tr><td>Samoa</td><td>1</td></tr><tr><td>Gambia</td><td>1</td></tr><tr><td>Nepal</td><td>1</td></tr><tr><td>Rwanda</td><td>1</td></tr><tr><td>Belgium</td><td>1</td></tr><tr><td>Angola</td><td>1</td></tr><tr><td>Mauritania</td><td>1</td></tr><tr><td>Denmark</td><td>1</td></tr><tr><td>Iceland</td><td>1</td></tr><tr><td>Montenegro</td><td>1</td></tr><tr><td>Saudi Arabia</td><td>1</td></tr><tr><td>Guinea</td><td>1</td></tr><tr><td>Faroe Islands</td><td>1</td></tr><tr><td>Kyrgyzstan</td><td>1</td></tr><tr><td>Dominican Republic</td><td>1</td></tr><tr><td>El Salvador</td><td>1</td></tr><tr><td>Micronesia</td><td>1</td></tr><tr><td>Malta</td><td>1</td></tr><tr><td>Laos</td><td>1</td></tr><tr><td>Israel</td><td>1</td></tr><tr><td>French Guiana</td><td>1</td></tr><tr><td>Mozambique</td><td>1</td></tr><tr><td>Australia</td><td>1</td></tr><tr><td>Hungary</td><td>1</td></tr></tbody></table></div>"
      ]
     },
     "metadata": {
      "application/vnd.databricks.v1+output": {
       "addedWidgets": {},
       "aggData": [],
       "aggError": "",
       "aggOverflow": false,
       "aggSchema": [],
       "aggSeriesLimitReached": false,
       "aggType": "",
       "arguments": {},
       "columnCustomDisplayInfos": {},
       "data": [
        [
         "China",
         178
        ],
        [
         "Indonesia",
         102
        ],
        [
         "Russia",
         71
        ],
        [
         "Philippines",
         52
        ],
        [
         "Portugal",
         36
        ],
        [
         "Poland",
         32
        ],
        [
         "Brazil",
         31
        ],
        [
         "France",
         28
        ],
        [
         "Japan",
         24
        ],
        [
         "Greece",
         23
        ],
        [
         "United States",
         21
        ],
        [
         "Peru",
         18
        ],
        [
         "Sweden",
         17
        ],
        [
         "Colombia",
         17
        ],
        [
         "Canada",
         14
        ],
        [
         "Czech Republic",
         13
        ],
        [
         "Ukraine",
         13
        ],
        [
         "Malaysia",
         11
        ],
        [
         "Mexico",
         11
        ],
        [
         "Nigeria",
         11
        ],
        [
         "Iran",
         11
        ],
        [
         "Vietnam",
         10
        ],
        [
         "Thailand",
         10
        ],
        [
         "Croatia",
         7
        ],
        [
         "Kazakhstan",
         7
        ],
        [
         "Finland",
         7
        ],
        [
         "Argentina",
         6
        ],
        [
         "Venezuela",
         6
        ],
        [
         "Yemen",
         5
        ],
        [
         "Norway",
         5
        ],
        [
         "Uzbekistan",
         5
        ],
        [
         "Jordan",
         4
        ],
        [
         "Bangladesh",
         4
        ],
        [
         "Mongolia",
         4
        ],
        [
         "Syria",
         4
        ],
        [
         "Belarus",
         4
        ],
        [
         "Ireland",
         4
        ],
        [
         "Morocco",
         4
        ],
        [
         "Panama",
         4
        ],
        [
         "South Korea",
         4
        ],
        [
         "Azerbaijan",
         4
        ],
        [
         "Tunisia",
         4
        ],
        [
         "Honduras",
         4
        ],
        [
         "Bulgaria",
         4
        ],
        [
         "Serbia",
         4
        ],
        [
         "Afghanistan",
         4
        ],
        [
         "Tajikistan",
         4
        ],
        [
         "Albania",
         3
        ],
        [
         "Madagascar",
         3
        ],
        [
         "Namibia",
         3
        ],
        [
         "Germany",
         3
        ],
        [
         "Sri Lanka",
         3
        ],
        [
         "Nicaragua",
         3
        ],
        [
         "Palestinian Territory",
         3
        ],
        [
         "Cuba",
         3
        ],
        [
         "Ethiopia",
         3
        ],
        [
         "Luxembourg",
         3
        ],
        [
         "United Kingdom",
         3
        ],
        [
         "Comoros",
         3
        ],
        [
         "Uganda",
         3
        ],
        [
         "Republic of the Congo",
         2
        ],
        [
         "Ghana",
         2
        ],
        [
         "Central African Republic",
         2
        ],
        [
         "Armenia",
         2
        ],
        [
         "Kenya",
         2
        ],
        [
         "Haiti",
         2
        ],
        [
         "New Zealand",
         2
        ],
        [
         "Benin",
         2
        ],
        [
         "North Korea",
         2
        ],
        [
         "Estonia",
         2
        ],
        [
         "Liberia",
         2
        ],
        [
         "Slovenia",
         2
        ],
        [
         "Botswana",
         2
        ],
        [
         "South Africa",
         2
        ],
        [
         "Netherlands",
         2
        ],
        [
         "Bosnia and Herzegovina",
         2
        ],
        [
         "Ivory Coast",
         2
        ],
        [
         "Italy",
         2
        ],
        [
         "Chile",
         2
        ],
        [
         "Guatemala",
         2
        ],
        [
         "Macedonia",
         2
        ],
        [
         "Tanzania",
         2
        ],
        [
         "Pakistan",
         2
        ],
        [
         "Paraguay",
         2
        ],
        [
         "Ecuador",
         2
        ],
        [
         "Chad",
         1
        ],
        [
         "Kiribati",
         1
        ],
        [
         "Marshall Islands",
         1
        ],
        [
         "Mauritius",
         1
        ],
        [
         "Guyana",
         1
        ],
        [
         "Tuvalu",
         1
        ],
        [
         "Zambia",
         1
        ],
        [
         "Moldova",
         1
        ],
        [
         "Djibouti",
         1
        ],
        [
         "Martinique",
         1
        ],
        [
         "Democratic Republic of the Congo",
         1
        ],
        [
         "Jamaica",
         1
        ],
        [
         "Belize",
         1
        ],
        [
         "Mali",
         1
        ],
        [
         "Turkey",
         1
        ],
        [
         "Kosovo",
         1
        ],
        [
         "Burundi",
         1
        ],
        [
         "Bolivia",
         1
        ],
        [
         "Nauru",
         1
        ],
        [
         "Cyprus",
         1
        ],
        [
         "Latvia",
         1
        ],
        [
         "Samoa",
         1
        ],
        [
         "Gambia",
         1
        ],
        [
         "Nepal",
         1
        ],
        [
         "Rwanda",
         1
        ],
        [
         "Belgium",
         1
        ],
        [
         "Angola",
         1
        ],
        [
         "Mauritania",
         1
        ],
        [
         "Denmark",
         1
        ],
        [
         "Iceland",
         1
        ],
        [
         "Montenegro",
         1
        ],
        [
         "Saudi Arabia",
         1
        ],
        [
         "Guinea",
         1
        ],
        [
         "Faroe Islands",
         1
        ],
        [
         "Kyrgyzstan",
         1
        ],
        [
         "Dominican Republic",
         1
        ],
        [
         "El Salvador",
         1
        ],
        [
         "Micronesia",
         1
        ],
        [
         "Malta",
         1
        ],
        [
         "Laos",
         1
        ],
        [
         "Israel",
         1
        ],
        [
         "French Guiana",
         1
        ],
        [
         "Mozambique",
         1
        ],
        [
         "Australia",
         1
        ],
        [
         "Hungary",
         1
        ]
       ],
       "datasetInfos": [],
       "dbfsResultPath": null,
       "isJsonSchema": true,
       "metadata": {},
       "overflow": false,
       "plotOptions": {
        "customPlotOptions": {},
        "displayType": "plotlyBar",
        "pivotAggregation": null,
        "pivotColumns": null,
        "xColumns": null,
        "yColumns": null
       },
       "removedWidgets": [],
       "schema": [
        {
         "metadata": "{}",
         "name": "country",
         "type": "\"string\""
        },
        {
         "metadata": "{}",
         "name": "count",
         "type": "\"long\""
        }
       ],
       "type": "table"
      }
     },
     "output_type": "display_data"
    }
   ],
   "source": [
    "display(countByCountryDF)"
   ]
  },
  {
   "cell_type": "code",
   "execution_count": 0,
   "metadata": {
    "application/vnd.databricks.v1+cell": {
     "inputWidgets": {},
     "nuid": "fb149ecd-622a-4a8e-b940-87a0c4c15474",
     "showTitle": false,
     "title": ""
    }
   },
   "outputs": [],
   "source": [
    "rawDF.createOrReplaceTempView(\"person\")"
   ]
  },
  {
   "cell_type": "code",
   "execution_count": 0,
   "metadata": {
    "application/vnd.databricks.v1+cell": {
     "inputWidgets": {},
     "nuid": "cd0beb96-04e3-49f0-9c12-a37e464e0d47",
     "showTitle": false,
     "title": ""
    }
   },
   "outputs": [
    {
     "data": {
      "text/html": [
       "<style scoped>\n",
       "  .table-result-container {\n",
       "    max-height: 300px;\n",
       "    overflow: auto;\n",
       "  }\n",
       "  table, th, td {\n",
       "    border: 1px solid black;\n",
       "    border-collapse: collapse;\n",
       "  }\n",
       "  th, td {\n",
       "    padding: 5px;\n",
       "  }\n",
       "  th {\n",
       "    text-align: left;\n",
       "  }\n",
       "</style><div class='table-result-container'><table class='table-result'><thead style='background-color: white'><tr><th>country</th></tr></thead><tbody><tr><td>Chad</td></tr><tr><td>Russia</td></tr><tr><td>Paraguay</td></tr><tr><td>Yemen</td></tr><tr><td>Sweden</td></tr><tr><td>Kiribati</td></tr><tr><td>Guyana</td></tr><tr><td>Philippines</td></tr><tr><td>Djibouti</td></tr><tr><td>Malaysia</td></tr><tr><td>Turkey</td></tr><tr><td>Germany</td></tr><tr><td>Comoros</td></tr><tr><td>Afghanistan</td></tr><tr><td>Ivory Coast</td></tr><tr><td>Rwanda</td></tr><tr><td>Jordan</td></tr><tr><td>France</td></tr><tr><td>Greece</td></tr><tr><td>Kosovo</td></tr><tr><td>Sri Lanka</td></tr><tr><td>Argentina</td></tr><tr><td>Belgium</td></tr><tr><td>Angola</td></tr><tr><td>Ecuador</td></tr><tr><td>Albania</td></tr><tr><td>Madagascar</td></tr><tr><td>Finland</td></tr><tr><td>Ghana</td></tr><tr><td>Nicaragua</td></tr><tr><td>Peru</td></tr><tr><td>Benin</td></tr><tr><td>China</td></tr><tr><td>United States</td></tr><tr><td>Belarus</td></tr><tr><td>Malta</td></tr><tr><td>Marshall Islands</td></tr><tr><td>Tuvalu</td></tr><tr><td>Palestinian Territory</td></tr><tr><td>Tajikistan</td></tr><tr><td>Chile</td></tr><tr><td>Martinique</td></tr><tr><td>Croatia</td></tr><tr><td>Burundi</td></tr><tr><td>Nigeria</td></tr><tr><td>Bolivia</td></tr><tr><td>Italy</td></tr><tr><td>Norway</td></tr><tr><td>Cuba</td></tr><tr><td>Mauritania</td></tr><tr><td>Central African Republic</td></tr><tr><td>Denmark</td></tr><tr><td>Bangladesh</td></tr><tr><td>Iran</td></tr><tr><td>Ireland</td></tr><tr><td>Thailand</td></tr><tr><td>Laos</td></tr><tr><td>Democratic Republic of the Congo</td></tr><tr><td>Morocco</td></tr><tr><td>Panama</td></tr><tr><td>Nauru</td></tr><tr><td>Ukraine</td></tr><tr><td>Venezuela</td></tr><tr><td>Iceland</td></tr><tr><td>Israel</td></tr><tr><td>North Korea</td></tr><tr><td>South Korea</td></tr><tr><td>Cyprus</td></tr><tr><td>Mexico</td></tr><tr><td>Montenegro</td></tr><tr><td>Estonia</td></tr><tr><td>Indonesia</td></tr><tr><td>Mongolia</td></tr><tr><td>Guatemala</td></tr><tr><td>Republic of the Congo</td></tr><tr><td>Azerbaijan</td></tr><tr><td>Armenia</td></tr><tr><td>Tunisia</td></tr><tr><td>Liberia</td></tr><tr><td>Syria</td></tr><tr><td>Honduras</td></tr><tr><td>Saudi Arabia</td></tr><tr><td>Uganda</td></tr><tr><td>French Guiana</td></tr><tr><td>Namibia</td></tr><tr><td>Zambia</td></tr><tr><td>Ethiopia</td></tr><tr><td>Jamaica</td></tr><tr><td>Latvia</td></tr><tr><td>Guinea</td></tr><tr><td>Canada</td></tr><tr><td>Samoa</td></tr><tr><td>Macedonia</td></tr><tr><td>Uzbekistan</td></tr><tr><td>Faroe Islands</td></tr><tr><td>Kyrgyzstan</td></tr><tr><td>Czech Republic</td></tr><tr><td>Mozambique</td></tr><tr><td>Brazil</td></tr><tr><td>Belize</td></tr><tr><td>Kenya</td></tr><tr><td>Gambia</td></tr><tr><td>Slovenia</td></tr><tr><td>Dominican Republic</td></tr><tr><td>Botswana</td></tr><tr><td>Japan</td></tr><tr><td>Tanzania</td></tr><tr><td>Luxembourg</td></tr><tr><td>New Zealand</td></tr><tr><td>Bosnia and Herzegovina</td></tr><tr><td>Haiti</td></tr><tr><td>Poland</td></tr><tr><td>Portugal</td></tr><tr><td>Australia</td></tr><tr><td>Bulgaria</td></tr><tr><td>Nepal</td></tr><tr><td>Kazakhstan</td></tr><tr><td>El Salvador</td></tr><tr><td>Serbia</td></tr><tr><td>South Africa</td></tr><tr><td>Micronesia</td></tr><tr><td>Colombia</td></tr><tr><td>Hungary</td></tr><tr><td>Pakistan</td></tr><tr><td>Mauritius</td></tr><tr><td>United Kingdom</td></tr><tr><td>Moldova</td></tr><tr><td>Vietnam</td></tr><tr><td>Mali</td></tr><tr><td>Netherlands</td></tr></tbody></table></div>"
      ]
     },
     "metadata": {
      "application/vnd.databricks.v1+output": {
       "addedWidgets": {},
       "aggData": [],
       "aggError": "",
       "aggOverflow": false,
       "aggSchema": [],
       "aggSeriesLimitReached": false,
       "aggType": "",
       "arguments": {},
       "columnCustomDisplayInfos": {},
       "data": [
        [
         "Chad"
        ],
        [
         "Russia"
        ],
        [
         "Paraguay"
        ],
        [
         "Yemen"
        ],
        [
         "Sweden"
        ],
        [
         "Kiribati"
        ],
        [
         "Guyana"
        ],
        [
         "Philippines"
        ],
        [
         "Djibouti"
        ],
        [
         "Malaysia"
        ],
        [
         "Turkey"
        ],
        [
         "Germany"
        ],
        [
         "Comoros"
        ],
        [
         "Afghanistan"
        ],
        [
         "Ivory Coast"
        ],
        [
         "Rwanda"
        ],
        [
         "Jordan"
        ],
        [
         "France"
        ],
        [
         "Greece"
        ],
        [
         "Kosovo"
        ],
        [
         "Sri Lanka"
        ],
        [
         "Argentina"
        ],
        [
         "Belgium"
        ],
        [
         "Angola"
        ],
        [
         "Ecuador"
        ],
        [
         "Albania"
        ],
        [
         "Madagascar"
        ],
        [
         "Finland"
        ],
        [
         "Ghana"
        ],
        [
         "Nicaragua"
        ],
        [
         "Peru"
        ],
        [
         "Benin"
        ],
        [
         "China"
        ],
        [
         "United States"
        ],
        [
         "Belarus"
        ],
        [
         "Malta"
        ],
        [
         "Marshall Islands"
        ],
        [
         "Tuvalu"
        ],
        [
         "Palestinian Territory"
        ],
        [
         "Tajikistan"
        ],
        [
         "Chile"
        ],
        [
         "Martinique"
        ],
        [
         "Croatia"
        ],
        [
         "Burundi"
        ],
        [
         "Nigeria"
        ],
        [
         "Bolivia"
        ],
        [
         "Italy"
        ],
        [
         "Norway"
        ],
        [
         "Cuba"
        ],
        [
         "Mauritania"
        ],
        [
         "Central African Republic"
        ],
        [
         "Denmark"
        ],
        [
         "Bangladesh"
        ],
        [
         "Iran"
        ],
        [
         "Ireland"
        ],
        [
         "Thailand"
        ],
        [
         "Laos"
        ],
        [
         "Democratic Republic of the Congo"
        ],
        [
         "Morocco"
        ],
        [
         "Panama"
        ],
        [
         "Nauru"
        ],
        [
         "Ukraine"
        ],
        [
         "Venezuela"
        ],
        [
         "Iceland"
        ],
        [
         "Israel"
        ],
        [
         "North Korea"
        ],
        [
         "South Korea"
        ],
        [
         "Cyprus"
        ],
        [
         "Mexico"
        ],
        [
         "Montenegro"
        ],
        [
         "Estonia"
        ],
        [
         "Indonesia"
        ],
        [
         "Mongolia"
        ],
        [
         "Guatemala"
        ],
        [
         "Republic of the Congo"
        ],
        [
         "Azerbaijan"
        ],
        [
         "Armenia"
        ],
        [
         "Tunisia"
        ],
        [
         "Liberia"
        ],
        [
         "Syria"
        ],
        [
         "Honduras"
        ],
        [
         "Saudi Arabia"
        ],
        [
         "Uganda"
        ],
        [
         "French Guiana"
        ],
        [
         "Namibia"
        ],
        [
         "Zambia"
        ],
        [
         "Ethiopia"
        ],
        [
         "Jamaica"
        ],
        [
         "Latvia"
        ],
        [
         "Guinea"
        ],
        [
         "Canada"
        ],
        [
         "Samoa"
        ],
        [
         "Macedonia"
        ],
        [
         "Uzbekistan"
        ],
        [
         "Faroe Islands"
        ],
        [
         "Kyrgyzstan"
        ],
        [
         "Czech Republic"
        ],
        [
         "Mozambique"
        ],
        [
         "Brazil"
        ],
        [
         "Belize"
        ],
        [
         "Kenya"
        ],
        [
         "Gambia"
        ],
        [
         "Slovenia"
        ],
        [
         "Dominican Republic"
        ],
        [
         "Botswana"
        ],
        [
         "Japan"
        ],
        [
         "Tanzania"
        ],
        [
         "Luxembourg"
        ],
        [
         "New Zealand"
        ],
        [
         "Bosnia and Herzegovina"
        ],
        [
         "Haiti"
        ],
        [
         "Poland"
        ],
        [
         "Portugal"
        ],
        [
         "Australia"
        ],
        [
         "Bulgaria"
        ],
        [
         "Nepal"
        ],
        [
         "Kazakhstan"
        ],
        [
         "El Salvador"
        ],
        [
         "Serbia"
        ],
        [
         "South Africa"
        ],
        [
         "Micronesia"
        ],
        [
         "Colombia"
        ],
        [
         "Hungary"
        ],
        [
         "Pakistan"
        ],
        [
         "Mauritius"
        ],
        [
         "United Kingdom"
        ],
        [
         "Moldova"
        ],
        [
         "Vietnam"
        ],
        [
         "Mali"
        ],
        [
         "Netherlands"
        ]
       ],
       "datasetInfos": [],
       "dbfsResultPath": null,
       "isJsonSchema": true,
       "metadata": {
        "isDbfsCommandResult": false
       },
       "overflow": false,
       "plotOptions": {
        "customPlotOptions": {},
        "displayType": "table",
        "pivotAggregation": null,
        "pivotColumns": null,
        "xColumns": null,
        "yColumns": null
       },
       "removedWidgets": [],
       "schema": [
        {
         "metadata": "{}",
         "name": "country",
         "type": "\"string\""
        }
       ],
       "type": "table"
      }
     },
     "output_type": "display_data"
    }
   ],
   "source": [
    "%sql\n",
    "SELECT * FROM person"
   ]
  },
  {
   "cell_type": "code",
   "execution_count": 0,
   "metadata": {
    "application/vnd.databricks.v1+cell": {
     "inputWidgets": {},
     "nuid": "b71a5f38-6779-43d7-9c8c-129729f29352",
     "showTitle": false,
     "title": ""
    }
   },
   "outputs": [
    {
     "data": {
      "text/html": [
       "<style scoped>\n",
       "  .table-result-container {\n",
       "    max-height: 300px;\n",
       "    overflow: auto;\n",
       "  }\n",
       "  table, th, td {\n",
       "    border: 1px solid black;\n",
       "    border-collapse: collapse;\n",
       "  }\n",
       "  th, td {\n",
       "    padding: 5px;\n",
       "  }\n",
       "  th {\n",
       "    text-align: left;\n",
       "  }\n",
       "</style><div class='table-result-container'><table class='table-result'><thead style='background-color: white'><tr><th>id</th><th>first_name</th><th>last_name</th><th>email</th><th>gender</th><th>country</th><th>city</th></tr></thead><tbody><tr><td>714</td><td>Aili</td><td>Mc Grath</td><td>amcgrathjt@vk.com</td><td>Male</td><td>Turkey</td><td>Yeniköy</td></tr></tbody></table></div>"
      ]
     },
     "metadata": {
      "application/vnd.databricks.v1+output": {
       "addedWidgets": {},
       "aggData": [],
       "aggError": "",
       "aggOverflow": false,
       "aggSchema": [],
       "aggSeriesLimitReached": false,
       "aggType": "",
       "arguments": {},
       "columnCustomDisplayInfos": {},
       "data": [
        [
         714,
         "Aili",
         "Mc Grath",
         "amcgrathjt@vk.com",
         "Male",
         "Turkey",
         "Yeniköy"
        ]
       ],
       "datasetInfos": [],
       "dbfsResultPath": null,
       "isJsonSchema": true,
       "metadata": {
        "isDbfsCommandResult": false
       },
       "overflow": false,
       "plotOptions": {
        "customPlotOptions": {},
        "displayType": "table",
        "pivotAggregation": null,
        "pivotColumns": null,
        "xColumns": null,
        "yColumns": null
       },
       "removedWidgets": [],
       "schema": [
        {
         "metadata": "{}",
         "name": "id",
         "type": "\"integer\""
        },
        {
         "metadata": "{}",
         "name": "first_name",
         "type": "\"string\""
        },
        {
         "metadata": "{}",
         "name": "last_name",
         "type": "\"string\""
        },
        {
         "metadata": "{}",
         "name": "email",
         "type": "\"string\""
        },
        {
         "metadata": "{}",
         "name": "gender",
         "type": "\"string\""
        },
        {
         "metadata": "{}",
         "name": "country",
         "type": "\"string\""
        },
        {
         "metadata": "{}",
         "name": "city",
         "type": "\"string\""
        }
       ],
       "type": "table"
      }
     },
     "output_type": "display_data"
    }
   ],
   "source": [
    "%sql\n",
    "SELECT * FROM person WHERE country = 'Turkey'"
   ]
  },
  {
   "cell_type": "code",
   "execution_count": 0,
   "metadata": {
    "application/vnd.databricks.v1+cell": {
     "inputWidgets": {},
     "nuid": "39f8afbd-5806-486f-8eea-0db93b008da1",
     "showTitle": false,
     "title": ""
    }
   },
   "outputs": [
    {
     "data": {
      "text/html": [
       "<style scoped>\n",
       "  .table-result-container {\n",
       "    max-height: 300px;\n",
       "    overflow: auto;\n",
       "  }\n",
       "  table, th, td {\n",
       "    border: 1px solid black;\n",
       "    border-collapse: collapse;\n",
       "  }\n",
       "  th, td {\n",
       "    padding: 5px;\n",
       "  }\n",
       "  th {\n",
       "    text-align: left;\n",
       "  }\n",
       "</style><div class='table-result-container'><table class='table-result'><thead style='background-color: white'><tr><th>country</th><th>count(1)</th></tr></thead><tbody><tr><td>Chad</td><td>1</td></tr><tr><td>Russia</td><td>71</td></tr><tr><td>Paraguay</td><td>2</td></tr><tr><td>Yemen</td><td>5</td></tr><tr><td>Sweden</td><td>17</td></tr><tr><td>Kiribati</td><td>1</td></tr><tr><td>Guyana</td><td>1</td></tr><tr><td>Philippines</td><td>52</td></tr><tr><td>Djibouti</td><td>1</td></tr><tr><td>Malaysia</td><td>11</td></tr><tr><td>Turkey</td><td>1</td></tr><tr><td>Germany</td><td>3</td></tr><tr><td>Comoros</td><td>3</td></tr><tr><td>Afghanistan</td><td>4</td></tr><tr><td>Ivory Coast</td><td>2</td></tr><tr><td>Rwanda</td><td>1</td></tr><tr><td>Jordan</td><td>4</td></tr><tr><td>France</td><td>28</td></tr><tr><td>Greece</td><td>23</td></tr><tr><td>Kosovo</td><td>1</td></tr><tr><td>Sri Lanka</td><td>3</td></tr><tr><td>Argentina</td><td>6</td></tr><tr><td>Belgium</td><td>1</td></tr><tr><td>Angola</td><td>1</td></tr><tr><td>Ecuador</td><td>2</td></tr><tr><td>Albania</td><td>3</td></tr><tr><td>Madagascar</td><td>3</td></tr><tr><td>Finland</td><td>7</td></tr><tr><td>Ghana</td><td>2</td></tr><tr><td>Nicaragua</td><td>3</td></tr><tr><td>Peru</td><td>18</td></tr><tr><td>Benin</td><td>2</td></tr><tr><td>China</td><td>178</td></tr><tr><td>United States</td><td>21</td></tr><tr><td>Belarus</td><td>4</td></tr><tr><td>Malta</td><td>1</td></tr><tr><td>Marshall Islands</td><td>1</td></tr><tr><td>Tuvalu</td><td>1</td></tr><tr><td>Palestinian Territory</td><td>3</td></tr><tr><td>Tajikistan</td><td>4</td></tr><tr><td>Chile</td><td>2</td></tr><tr><td>Martinique</td><td>1</td></tr><tr><td>Croatia</td><td>7</td></tr><tr><td>Burundi</td><td>1</td></tr><tr><td>Nigeria</td><td>11</td></tr><tr><td>Bolivia</td><td>1</td></tr><tr><td>Italy</td><td>2</td></tr><tr><td>Norway</td><td>5</td></tr><tr><td>Cuba</td><td>3</td></tr><tr><td>Mauritania</td><td>1</td></tr><tr><td>Central African Republic</td><td>2</td></tr><tr><td>Denmark</td><td>1</td></tr><tr><td>Bangladesh</td><td>4</td></tr><tr><td>Iran</td><td>11</td></tr><tr><td>Ireland</td><td>4</td></tr><tr><td>Thailand</td><td>10</td></tr><tr><td>Laos</td><td>1</td></tr><tr><td>Democratic Republic of the Congo</td><td>1</td></tr><tr><td>Morocco</td><td>4</td></tr><tr><td>Panama</td><td>4</td></tr><tr><td>Nauru</td><td>1</td></tr><tr><td>Ukraine</td><td>13</td></tr><tr><td>Venezuela</td><td>6</td></tr><tr><td>Iceland</td><td>1</td></tr><tr><td>Israel</td><td>1</td></tr><tr><td>North Korea</td><td>2</td></tr><tr><td>South Korea</td><td>4</td></tr><tr><td>Cyprus</td><td>1</td></tr><tr><td>Mexico</td><td>11</td></tr><tr><td>Montenegro</td><td>1</td></tr><tr><td>Estonia</td><td>2</td></tr><tr><td>Indonesia</td><td>102</td></tr><tr><td>Mongolia</td><td>4</td></tr><tr><td>Guatemala</td><td>2</td></tr><tr><td>Republic of the Congo</td><td>2</td></tr><tr><td>Azerbaijan</td><td>4</td></tr><tr><td>Armenia</td><td>2</td></tr><tr><td>Tunisia</td><td>4</td></tr><tr><td>Liberia</td><td>2</td></tr><tr><td>Syria</td><td>4</td></tr><tr><td>Honduras</td><td>4</td></tr><tr><td>Saudi Arabia</td><td>1</td></tr><tr><td>Uganda</td><td>3</td></tr><tr><td>French Guiana</td><td>1</td></tr><tr><td>Namibia</td><td>3</td></tr><tr><td>Zambia</td><td>1</td></tr><tr><td>Ethiopia</td><td>3</td></tr><tr><td>Jamaica</td><td>1</td></tr><tr><td>Latvia</td><td>1</td></tr><tr><td>Guinea</td><td>1</td></tr><tr><td>Canada</td><td>14</td></tr><tr><td>Samoa</td><td>1</td></tr><tr><td>Macedonia</td><td>2</td></tr><tr><td>Uzbekistan</td><td>5</td></tr><tr><td>Faroe Islands</td><td>1</td></tr><tr><td>Kyrgyzstan</td><td>1</td></tr><tr><td>Czech Republic</td><td>13</td></tr><tr><td>Mozambique</td><td>1</td></tr><tr><td>Brazil</td><td>31</td></tr><tr><td>Belize</td><td>1</td></tr><tr><td>Kenya</td><td>2</td></tr><tr><td>Gambia</td><td>1</td></tr><tr><td>Slovenia</td><td>2</td></tr><tr><td>Dominican Republic</td><td>1</td></tr><tr><td>Botswana</td><td>2</td></tr><tr><td>Japan</td><td>24</td></tr><tr><td>Tanzania</td><td>2</td></tr><tr><td>Luxembourg</td><td>3</td></tr><tr><td>New Zealand</td><td>2</td></tr><tr><td>Bosnia and Herzegovina</td><td>2</td></tr><tr><td>Haiti</td><td>2</td></tr><tr><td>Poland</td><td>32</td></tr><tr><td>Portugal</td><td>36</td></tr><tr><td>Australia</td><td>1</td></tr><tr><td>Bulgaria</td><td>4</td></tr><tr><td>Nepal</td><td>1</td></tr><tr><td>Kazakhstan</td><td>7</td></tr><tr><td>El Salvador</td><td>1</td></tr><tr><td>Serbia</td><td>4</td></tr><tr><td>South Africa</td><td>2</td></tr><tr><td>Micronesia</td><td>1</td></tr><tr><td>Colombia</td><td>17</td></tr><tr><td>Hungary</td><td>1</td></tr><tr><td>Pakistan</td><td>2</td></tr><tr><td>Mauritius</td><td>1</td></tr><tr><td>United Kingdom</td><td>3</td></tr><tr><td>Moldova</td><td>1</td></tr><tr><td>Vietnam</td><td>10</td></tr><tr><td>Mali</td><td>1</td></tr><tr><td>Netherlands</td><td>2</td></tr></tbody></table></div>"
      ]
     },
     "metadata": {
      "application/vnd.databricks.v1+output": {
       "addedWidgets": {},
       "aggData": [],
       "aggError": "",
       "aggOverflow": false,
       "aggSchema": [],
       "aggSeriesLimitReached": false,
       "aggType": "",
       "arguments": {},
       "columnCustomDisplayInfos": {},
       "data": [
        [
         "Chad",
         1
        ],
        [
         "Russia",
         71
        ],
        [
         "Paraguay",
         2
        ],
        [
         "Yemen",
         5
        ],
        [
         "Sweden",
         17
        ],
        [
         "Kiribati",
         1
        ],
        [
         "Guyana",
         1
        ],
        [
         "Philippines",
         52
        ],
        [
         "Djibouti",
         1
        ],
        [
         "Malaysia",
         11
        ],
        [
         "Turkey",
         1
        ],
        [
         "Germany",
         3
        ],
        [
         "Comoros",
         3
        ],
        [
         "Afghanistan",
         4
        ],
        [
         "Ivory Coast",
         2
        ],
        [
         "Rwanda",
         1
        ],
        [
         "Jordan",
         4
        ],
        [
         "France",
         28
        ],
        [
         "Greece",
         23
        ],
        [
         "Kosovo",
         1
        ],
        [
         "Sri Lanka",
         3
        ],
        [
         "Argentina",
         6
        ],
        [
         "Belgium",
         1
        ],
        [
         "Angola",
         1
        ],
        [
         "Ecuador",
         2
        ],
        [
         "Albania",
         3
        ],
        [
         "Madagascar",
         3
        ],
        [
         "Finland",
         7
        ],
        [
         "Ghana",
         2
        ],
        [
         "Nicaragua",
         3
        ],
        [
         "Peru",
         18
        ],
        [
         "Benin",
         2
        ],
        [
         "China",
         178
        ],
        [
         "United States",
         21
        ],
        [
         "Belarus",
         4
        ],
        [
         "Malta",
         1
        ],
        [
         "Marshall Islands",
         1
        ],
        [
         "Tuvalu",
         1
        ],
        [
         "Palestinian Territory",
         3
        ],
        [
         "Tajikistan",
         4
        ],
        [
         "Chile",
         2
        ],
        [
         "Martinique",
         1
        ],
        [
         "Croatia",
         7
        ],
        [
         "Burundi",
         1
        ],
        [
         "Nigeria",
         11
        ],
        [
         "Bolivia",
         1
        ],
        [
         "Italy",
         2
        ],
        [
         "Norway",
         5
        ],
        [
         "Cuba",
         3
        ],
        [
         "Mauritania",
         1
        ],
        [
         "Central African Republic",
         2
        ],
        [
         "Denmark",
         1
        ],
        [
         "Bangladesh",
         4
        ],
        [
         "Iran",
         11
        ],
        [
         "Ireland",
         4
        ],
        [
         "Thailand",
         10
        ],
        [
         "Laos",
         1
        ],
        [
         "Democratic Republic of the Congo",
         1
        ],
        [
         "Morocco",
         4
        ],
        [
         "Panama",
         4
        ],
        [
         "Nauru",
         1
        ],
        [
         "Ukraine",
         13
        ],
        [
         "Venezuela",
         6
        ],
        [
         "Iceland",
         1
        ],
        [
         "Israel",
         1
        ],
        [
         "North Korea",
         2
        ],
        [
         "South Korea",
         4
        ],
        [
         "Cyprus",
         1
        ],
        [
         "Mexico",
         11
        ],
        [
         "Montenegro",
         1
        ],
        [
         "Estonia",
         2
        ],
        [
         "Indonesia",
         102
        ],
        [
         "Mongolia",
         4
        ],
        [
         "Guatemala",
         2
        ],
        [
         "Republic of the Congo",
         2
        ],
        [
         "Azerbaijan",
         4
        ],
        [
         "Armenia",
         2
        ],
        [
         "Tunisia",
         4
        ],
        [
         "Liberia",
         2
        ],
        [
         "Syria",
         4
        ],
        [
         "Honduras",
         4
        ],
        [
         "Saudi Arabia",
         1
        ],
        [
         "Uganda",
         3
        ],
        [
         "French Guiana",
         1
        ],
        [
         "Namibia",
         3
        ],
        [
         "Zambia",
         1
        ],
        [
         "Ethiopia",
         3
        ],
        [
         "Jamaica",
         1
        ],
        [
         "Latvia",
         1
        ],
        [
         "Guinea",
         1
        ],
        [
         "Canada",
         14
        ],
        [
         "Samoa",
         1
        ],
        [
         "Macedonia",
         2
        ],
        [
         "Uzbekistan",
         5
        ],
        [
         "Faroe Islands",
         1
        ],
        [
         "Kyrgyzstan",
         1
        ],
        [
         "Czech Republic",
         13
        ],
        [
         "Mozambique",
         1
        ],
        [
         "Brazil",
         31
        ],
        [
         "Belize",
         1
        ],
        [
         "Kenya",
         2
        ],
        [
         "Gambia",
         1
        ],
        [
         "Slovenia",
         2
        ],
        [
         "Dominican Republic",
         1
        ],
        [
         "Botswana",
         2
        ],
        [
         "Japan",
         24
        ],
        [
         "Tanzania",
         2
        ],
        [
         "Luxembourg",
         3
        ],
        [
         "New Zealand",
         2
        ],
        [
         "Bosnia and Herzegovina",
         2
        ],
        [
         "Haiti",
         2
        ],
        [
         "Poland",
         32
        ],
        [
         "Portugal",
         36
        ],
        [
         "Australia",
         1
        ],
        [
         "Bulgaria",
         4
        ],
        [
         "Nepal",
         1
        ],
        [
         "Kazakhstan",
         7
        ],
        [
         "El Salvador",
         1
        ],
        [
         "Serbia",
         4
        ],
        [
         "South Africa",
         2
        ],
        [
         "Micronesia",
         1
        ],
        [
         "Colombia",
         17
        ],
        [
         "Hungary",
         1
        ],
        [
         "Pakistan",
         2
        ],
        [
         "Mauritius",
         1
        ],
        [
         "United Kingdom",
         3
        ],
        [
         "Moldova",
         1
        ],
        [
         "Vietnam",
         10
        ],
        [
         "Mali",
         1
        ],
        [
         "Netherlands",
         2
        ]
       ],
       "datasetInfos": [],
       "dbfsResultPath": null,
       "isJsonSchema": true,
       "metadata": {
        "isDbfsCommandResult": false
       },
       "overflow": false,
       "plotOptions": {
        "customPlotOptions": {},
        "displayType": "table",
        "pivotAggregation": null,
        "pivotColumns": null,
        "xColumns": null,
        "yColumns": null
       },
       "removedWidgets": [],
       "schema": [
        {
         "metadata": "{}",
         "name": "country",
         "type": "\"string\""
        },
        {
         "metadata": "{}",
         "name": "count(1)",
         "type": "\"long\""
        }
       ],
       "type": "table"
      }
     },
     "output_type": "display_data"
    }
   ],
   "source": [
    "%sql\n",
    "SELECT country,count(*) FROM person GROUP BY country"
   ]
  },
  {
   "cell_type": "code",
   "execution_count": 0,
   "metadata": {
    "application/vnd.databricks.v1+cell": {
     "inputWidgets": {},
     "nuid": "3bfabf94-98ad-4276-8ce7-64a464504285",
     "showTitle": false,
     "title": ""
    }
   },
   "outputs": [
    {
     "data": {
      "text/html": [
       "<style scoped>\n",
       "  .ansiout {\n",
       "    display: block;\n",
       "    unicode-bidi: embed;\n",
       "    white-space: pre-wrap;\n",
       "    word-wrap: break-word;\n",
       "    word-break: break-all;\n",
       "    font-family: \"Source Code Pro\", \"Menlo\", monospace;;\n",
       "    font-size: 13px;\n",
       "    color: #555;\n",
       "    margin-left: 4px;\n",
       "    line-height: 19px;\n",
       "  }\n",
       "</style>"
      ]
     },
     "metadata": {
      "application/vnd.databricks.v1+output": {
       "arguments": {},
       "data": "",
       "errorSummary": "",
       "errorTraceType": null,
       "metadata": {},
       "type": "ipynbError"
      }
     },
     "output_type": "display_data"
    }
   ],
   "source": []
  }
 ],
 "metadata": {
  "application/vnd.databricks.v1+notebook": {
   "dashboards": [],
   "language": "python",
   "notebookMetadata": {
    "pythonIndentUnit": 2
   },
   "notebookName": "verimaratonusparkexam",
   "notebookOrigID": 3236903451238609,
   "widgets": {}
  },
  "kernelspec": {
   "display_name": "Python 3 (ipykernel)",
   "language": "python",
   "name": "python3"
  },
  "language_info": {
   "codemirror_mode": {
    "name": "ipython",
    "version": 3
   },
   "file_extension": ".py",
   "mimetype": "text/x-python",
   "name": "python",
   "nbconvert_exporter": "python",
   "pygments_lexer": "ipython3",
   "version": "3.10.9"
  }
 },
 "nbformat": 4,
 "nbformat_minor": 1
}
