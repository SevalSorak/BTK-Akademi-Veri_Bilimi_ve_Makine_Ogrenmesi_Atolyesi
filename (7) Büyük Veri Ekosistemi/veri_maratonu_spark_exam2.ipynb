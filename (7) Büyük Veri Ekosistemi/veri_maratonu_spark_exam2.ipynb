{
 "cells": [
  {
   "cell_type": "code",
   "execution_count": 0,
   "metadata": {
    "application/vnd.databricks.v1+cell": {
     "inputWidgets": {},
     "nuid": "e63b3b82-faab-469d-8379-0d2497df479f",
     "showTitle": false,
     "title": ""
    }
   },
   "outputs": [],
   "source": [
    "from pyspark.sql import SparkSession"
   ]
  },
  {
   "cell_type": "code",
   "execution_count": 0,
   "metadata": {
    "application/vnd.databricks.v1+cell": {
     "inputWidgets": {},
     "nuid": "73707d42-d7d5-4160-90bb-a15da71cce27",
     "showTitle": false,
     "title": ""
    }
   },
   "outputs": [],
   "source": [
    "sparkSession = SparkSession.builder.appName('Veri Maratonu Spark İkinci Örnek').getOrCreate()"
   ]
  },
  {
   "cell_type": "code",
   "execution_count": 0,
   "metadata": {
    "application/vnd.databricks.v1+cell": {
     "inputWidgets": {},
     "nuid": "b507db56-8920-4ef9-840c-e14ec0e5859d",
     "showTitle": false,
     "title": ""
    }
   },
   "outputs": [],
   "source": [
    "rawDF = sparkSession.read.csv('/FileStore/tables/verimaratonutest2-1.csv',header=True,inferSchema=True)"
   ]
  },
  {
   "cell_type": "code",
   "execution_count": 0,
   "metadata": {
    "application/vnd.databricks.v1+cell": {
     "inputWidgets": {},
     "nuid": "e89b0417-5628-484e-a0c9-85959aa13692",
     "showTitle": false,
     "title": ""
    }
   },
   "outputs": [
    {
     "data": {
      "text/plain": [
       "root\n",
       " |-- isim: string (nullable = true)\n",
       " |-- soyisim: string (nullable = true)\n",
       " |-- yas: integer (nullable = true)\n",
       " |-- sehir: string (nullable = true)\n",
       "\n"
      ]
     },
     "metadata": {
      "application/vnd.databricks.v1+output": {
       "addedWidgets": {},
       "arguments": {},
       "data": "root\n |-- isim: string (nullable = true)\n |-- soyisim: string (nullable = true)\n |-- yas: integer (nullable = true)\n |-- sehir: string (nullable = true)\n\n",
       "datasetInfos": [],
       "metadata": {},
       "removedWidgets": [],
       "type": "ansi"
      }
     },
     "output_type": "display_data"
    }
   ],
   "source": [
    "rawDF.printSchema()"
   ]
  },
  {
   "cell_type": "code",
   "execution_count": 0,
   "metadata": {
    "application/vnd.databricks.v1+cell": {
     "inputWidgets": {},
     "nuid": "d94e6a15-30d4-49a1-abd7-2ba7235767e4",
     "showTitle": false,
     "title": ""
    }
   },
   "outputs": [
    {
     "data": {
      "text/plain": [
       "+---------+--------+----+--------+\n",
       "|     isim| soyisim| yas|   sehir|\n",
       "+---------+--------+----+--------+\n",
       "|   Mehmet|   Fırat|  25|  Ankara|\n",
       "|     Mert|Mertoğlu|  28|İstanbul|\n",
       "| Bünyamin|    Önüm|null|   İzmir|\n",
       "|   Selçuk|    null|null|   Konya|\n",
       "|     null|    null|  37| Kocaeli|\n",
       "|     Ömer| Çorapçı|null|    null|\n",
       "|    Burak| Korkmaz|  32|    null|\n",
       "|Hasan Can|   Bulut|  22| Aksaray|\n",
       "+---------+--------+----+--------+\n",
       "\n"
      ]
     },
     "metadata": {
      "application/vnd.databricks.v1+output": {
       "addedWidgets": {},
       "arguments": {},
       "data": "+---------+--------+----+--------+\n|     isim| soyisim| yas|   sehir|\n+---------+--------+----+--------+\n|   Mehmet|   Fırat|  25|  Ankara|\n|     Mert|Mertoğlu|  28|İstanbul|\n| Bünyamin|    Önüm|null|   İzmir|\n|   Selçuk|    null|null|   Konya|\n|     null|    null|  37| Kocaeli|\n|     Ömer| Çorapçı|null|    null|\n|    Burak| Korkmaz|  32|    null|\n|Hasan Can|   Bulut|  22| Aksaray|\n+---------+--------+----+--------+\n\n",
       "datasetInfos": [],
       "metadata": {},
       "removedWidgets": [],
       "type": "ansi"
      }
     },
     "output_type": "display_data"
    }
   ],
   "source": [
    "rawDF.show()"
   ]
  },
  {
   "cell_type": "code",
   "execution_count": 0,
   "metadata": {
    "application/vnd.databricks.v1+cell": {
     "inputWidgets": {},
     "nuid": "8c692290-9c11-4f12-b6c6-d61375efbd6a",
     "showTitle": false,
     "title": ""
    }
   },
   "outputs": [],
   "source": [
    "nullCheckDF = rawDF.na.drop()"
   ]
  },
  {
   "cell_type": "code",
   "execution_count": 0,
   "metadata": {
    "application/vnd.databricks.v1+cell": {
     "inputWidgets": {},
     "nuid": "f66b019f-4e88-4810-8a99-30bbb6d08699",
     "showTitle": false,
     "title": ""
    }
   },
   "outputs": [
    {
     "data": {
      "text/html": [
       "<style scoped>\n",
       "  .ansiout {\n",
       "    display: block;\n",
       "    unicode-bidi: embed;\n",
       "    white-space: pre-wrap;\n",
       "    word-wrap: break-word;\n",
       "    word-break: break-all;\n",
       "    font-family: \"Source Code Pro\", \"Menlo\", monospace;;\n",
       "    font-size: 13px;\n",
       "    color: #555;\n",
       "    margin-left: 4px;\n",
       "    line-height: 19px;\n",
       "  }\n",
       "</style>"
      ]
     },
     "metadata": {
      "application/vnd.databricks.v1+output": {
       "arguments": {},
       "data": "",
       "errorSummary": "",
       "errorTraceType": null,
       "metadata": {},
       "type": "ipynbError"
      }
     },
     "output_type": "display_data"
    }
   ],
   "source": [
    "nullCheckDF = rawDF.na.drop('any')"
   ]
  },
  {
   "cell_type": "code",
   "execution_count": 0,
   "metadata": {
    "application/vnd.databricks.v1+cell": {
     "inputWidgets": {},
     "nuid": "da8e48d6-2a06-4b4c-a627-19ca52570562",
     "showTitle": false,
     "title": ""
    }
   },
   "outputs": [
    {
     "data": {
      "text/html": [
       "<style scoped>\n",
       "  .ansiout {\n",
       "    display: block;\n",
       "    unicode-bidi: embed;\n",
       "    white-space: pre-wrap;\n",
       "    word-wrap: break-word;\n",
       "    word-break: break-all;\n",
       "    font-family: \"Source Code Pro\", \"Menlo\", monospace;;\n",
       "    font-size: 13px;\n",
       "    color: #555;\n",
       "    margin-left: 4px;\n",
       "    line-height: 19px;\n",
       "  }\n",
       "</style>"
      ]
     },
     "metadata": {
      "application/vnd.databricks.v1+output": {
       "arguments": {},
       "data": "",
       "errorSummary": "",
       "errorTraceType": null,
       "metadata": {},
       "type": "ipynbError"
      }
     },
     "output_type": "display_data"
    }
   ],
   "source": [
    "nullCheckDF = rawDF.na.drop('all')"
   ]
  },
  {
   "cell_type": "code",
   "execution_count": 0,
   "metadata": {
    "application/vnd.databricks.v1+cell": {
     "inputWidgets": {},
     "nuid": "a1babd11-083e-4399-8566-3d2091a52583",
     "showTitle": false,
     "title": ""
    }
   },
   "outputs": [],
   "source": [
    "nullCheckDF = rawDF.na.drop(how='all',thresh=3)"
   ]
  },
  {
   "cell_type": "code",
   "execution_count": 0,
   "metadata": {
    "application/vnd.databricks.v1+cell": {
     "inputWidgets": {},
     "nuid": "fffb0653-93ab-45d9-8eb9-fc371b3b7833",
     "showTitle": false,
     "title": ""
    }
   },
   "outputs": [],
   "source": [
    "nullCheckDF = rawDF.na.drop(how='any',subset=['soyisim'])"
   ]
  },
  {
   "cell_type": "code",
   "execution_count": 0,
   "metadata": {
    "application/vnd.databricks.v1+cell": {
     "inputWidgets": {},
     "nuid": "47785eb0-e6ce-4785-8344-8a078a8219fe",
     "showTitle": false,
     "title": ""
    }
   },
   "outputs": [
    {
     "data": {
      "text/plain": [
       "+---------+--------+----+--------+\n",
       "|     isim| soyisim| yas|   sehir|\n",
       "+---------+--------+----+--------+\n",
       "|   Mehmet|   Fırat|  25|  Ankara|\n",
       "|     Mert|Mertoğlu|  28|İstanbul|\n",
       "| Bünyamin|    Önüm|null|   İzmir|\n",
       "|     Ömer| Çorapçı|null|    null|\n",
       "|    Burak| Korkmaz|  32|    null|\n",
       "|Hasan Can|   Bulut|  22| Aksaray|\n",
       "+---------+--------+----+--------+\n",
       "\n"
      ]
     },
     "metadata": {
      "application/vnd.databricks.v1+output": {
       "addedWidgets": {},
       "arguments": {},
       "data": "+---------+--------+----+--------+\n|     isim| soyisim| yas|   sehir|\n+---------+--------+----+--------+\n|   Mehmet|   Fırat|  25|  Ankara|\n|     Mert|Mertoğlu|  28|İstanbul|\n| Bünyamin|    Önüm|null|   İzmir|\n|     Ömer| Çorapçı|null|    null|\n|    Burak| Korkmaz|  32|    null|\n|Hasan Can|   Bulut|  22| Aksaray|\n+---------+--------+----+--------+\n\n",
       "datasetInfos": [],
       "metadata": {},
       "removedWidgets": [],
       "type": "ansi"
      }
     },
     "output_type": "display_data"
    }
   ],
   "source": [
    "nullCheckDF.show()"
   ]
  },
  {
   "cell_type": "code",
   "execution_count": 0,
   "metadata": {
    "application/vnd.databricks.v1+cell": {
     "inputWidgets": {},
     "nuid": "e20cde8e-3b13-4690-9526-d409632f0c63",
     "showTitle": false,
     "title": ""
    }
   },
   "outputs": [
    {
     "data": {
      "text/plain": [
       "+---------+--------+---+--------+\n",
       "|     isim| soyisim|yas|   sehir|\n",
       "+---------+--------+---+--------+\n",
       "|   Mehmet|   Fırat| 25|  Ankara|\n",
       "|     Mert|Mertoğlu| 28|İstanbul|\n",
       "| Bünyamin|    Önüm|-99|   İzmir|\n",
       "|   Selçuk|    null|-99|   Konya|\n",
       "|     null|    null| 37| Kocaeli|\n",
       "|     Ömer| Çorapçı|-99|    null|\n",
       "|    Burak| Korkmaz| 32|    null|\n",
       "|Hasan Can|   Bulut| 22| Aksaray|\n",
       "+---------+--------+---+--------+\n",
       "\n"
      ]
     },
     "metadata": {
      "application/vnd.databricks.v1+output": {
       "addedWidgets": {},
       "arguments": {},
       "data": "+---------+--------+---+--------+\n|     isim| soyisim|yas|   sehir|\n+---------+--------+---+--------+\n|   Mehmet|   Fırat| 25|  Ankara|\n|     Mert|Mertoğlu| 28|İstanbul|\n| Bünyamin|    Önüm|-99|   İzmir|\n|   Selçuk|    null|-99|   Konya|\n|     null|    null| 37| Kocaeli|\n|     Ömer| Çorapçı|-99|    null|\n|    Burak| Korkmaz| 32|    null|\n|Hasan Can|   Bulut| 22| Aksaray|\n+---------+--------+---+--------+\n\n",
       "datasetInfos": [],
       "metadata": {},
       "removedWidgets": [],
       "type": "ansi"
      }
     },
     "output_type": "display_data"
    }
   ],
   "source": [
    "rawDF.na.fill(\"Boş Veri\").show()"
   ]
  },
  {
   "cell_type": "code",
   "execution_count": 0,
   "metadata": {
    "application/vnd.databricks.v1+cell": {
     "inputWidgets": {},
     "nuid": "358ad7ee-76fb-44d0-a185-c728d505acaa",
     "showTitle": false,
     "title": ""
    }
   },
   "outputs": [
    {
     "data": {
      "text/html": [
       "<style scoped>\n",
       "  .ansiout {\n",
       "    display: block;\n",
       "    unicode-bidi: embed;\n",
       "    white-space: pre-wrap;\n",
       "    word-wrap: break-word;\n",
       "    word-break: break-all;\n",
       "    font-family: \"Source Code Pro\", \"Menlo\", monospace;;\n",
       "    font-size: 13px;\n",
       "    color: #555;\n",
       "    margin-left: 4px;\n",
       "    line-height: 19px;\n",
       "  }\n",
       "</style>"
      ]
     },
     "metadata": {
      "application/vnd.databricks.v1+output": {
       "arguments": {},
       "data": "",
       "errorSummary": "",
       "errorTraceType": null,
       "metadata": {},
       "type": "ipynbError"
      }
     },
     "output_type": "display_data"
    }
   ],
   "source": [
    "rawDF.na.fill(-99).show()"
   ]
  },
  {
   "cell_type": "code",
   "execution_count": 0,
   "metadata": {
    "application/vnd.databricks.v1+cell": {
     "inputWidgets": {},
     "nuid": "71391180-a78c-4bcf-837b-4896f4607b6d",
     "showTitle": false,
     "title": ""
    }
   },
   "outputs": [
    {
     "data": {
      "text/plain": [
       "+---------+--------+---+--------+\n",
       "|     isim| soyisim|yas|   sehir|\n",
       "+---------+--------+---+--------+\n",
       "|   Mehmet|   Fırat| 25|  Ankara|\n",
       "|     Mert|Mertoğlu| 28|İstanbul|\n",
       "| Bünyamin|    Önüm| -1|   İzmir|\n",
       "|   Selçuk| Veriyok| -1|   Konya|\n",
       "|      Boş| Veriyok| 37| Kocaeli|\n",
       "|     Ömer| Çorapçı| -1| Turkiye|\n",
       "|    Burak| Korkmaz| 32| Turkiye|\n",
       "|Hasan Can|   Bulut| 22| Aksaray|\n",
       "+---------+--------+---+--------+\n",
       "\n"
      ]
     },
     "metadata": {
      "application/vnd.databricks.v1+output": {
       "addedWidgets": {},
       "arguments": {},
       "data": "+---------+--------+---+--------+\n|     isim| soyisim|yas|   sehir|\n+---------+--------+---+--------+\n|   Mehmet|   Fırat| 25|  Ankara|\n|     Mert|Mertoğlu| 28|İstanbul|\n| Bünyamin|    Önüm| -1|   İzmir|\n|   Selçuk| Veriyok| -1|   Konya|\n|      Boş| Veriyok| 37| Kocaeli|\n|     Ömer| Çorapçı| -1| Turkiye|\n|    Burak| Korkmaz| 32| Turkiye|\n|Hasan Can|   Bulut| 22| Aksaray|\n+---------+--------+---+--------+\n\n",
       "datasetInfos": [],
       "metadata": {},
       "removedWidgets": [],
       "type": "ansi"
      }
     },
     "output_type": "display_data"
    }
   ],
   "source": [
    "rawDF.na.fill({'isim':'Boş','yas':-1,'soyisim':'Veriyok','sehir':\"Turkiye\"}).show()"
   ]
  },
  {
   "cell_type": "code",
   "execution_count": 0,
   "metadata": {
    "application/vnd.databricks.v1+cell": {
     "inputWidgets": {},
     "nuid": "6c0754e7-7fd4-4387-9feb-0945d701f539",
     "showTitle": false,
     "title": ""
    }
   },
   "outputs": [
    {
     "data": {
      "text/html": [
       "<style scoped>\n",
       "  .ansiout {\n",
       "    display: block;\n",
       "    unicode-bidi: embed;\n",
       "    white-space: pre-wrap;\n",
       "    word-wrap: break-word;\n",
       "    word-break: break-all;\n",
       "    font-family: \"Source Code Pro\", \"Menlo\", monospace;;\n",
       "    font-size: 13px;\n",
       "    color: #555;\n",
       "    margin-left: 4px;\n",
       "    line-height: 19px;\n",
       "  }\n",
       "</style>"
      ]
     },
     "metadata": {
      "application/vnd.databricks.v1+output": {
       "arguments": {},
       "data": "",
       "errorSummary": "",
       "errorTraceType": null,
       "metadata": {},
       "type": "ipynbError"
      }
     },
     "output_type": "display_data"
    }
   ],
   "source": []
  },
  {
   "cell_type": "code",
   "execution_count": 0,
   "metadata": {
    "application/vnd.databricks.v1+cell": {
     "inputWidgets": {},
     "nuid": "c05d1da2-181d-493a-9b2b-56fdfd7cae32",
     "showTitle": false,
     "title": ""
    }
   },
   "outputs": [
    {
     "data": {
      "text/html": [
       "<style scoped>\n",
       "  .ansiout {\n",
       "    display: block;\n",
       "    unicode-bidi: embed;\n",
       "    white-space: pre-wrap;\n",
       "    word-wrap: break-word;\n",
       "    word-break: break-all;\n",
       "    font-family: \"Source Code Pro\", \"Menlo\", monospace;;\n",
       "    font-size: 13px;\n",
       "    color: #555;\n",
       "    margin-left: 4px;\n",
       "    line-height: 19px;\n",
       "  }\n",
       "</style>"
      ]
     },
     "metadata": {
      "application/vnd.databricks.v1+output": {
       "arguments": {},
       "data": "",
       "errorSummary": "",
       "errorTraceType": null,
       "metadata": {},
       "type": "ipynbError"
      }
     },
     "output_type": "display_data"
    }
   ],
   "source": []
  },
  {
   "cell_type": "code",
   "execution_count": 0,
   "metadata": {
    "application/vnd.databricks.v1+cell": {
     "inputWidgets": {},
     "nuid": "27e2b01d-3445-449f-84fd-08c738510111",
     "showTitle": false,
     "title": ""
    }
   },
   "outputs": [
    {
     "data": {
      "text/html": [
       "<style scoped>\n",
       "  .ansiout {\n",
       "    display: block;\n",
       "    unicode-bidi: embed;\n",
       "    white-space: pre-wrap;\n",
       "    word-wrap: break-word;\n",
       "    word-break: break-all;\n",
       "    font-family: \"Source Code Pro\", \"Menlo\", monospace;;\n",
       "    font-size: 13px;\n",
       "    color: #555;\n",
       "    margin-left: 4px;\n",
       "    line-height: 19px;\n",
       "  }\n",
       "</style>"
      ]
     },
     "metadata": {
      "application/vnd.databricks.v1+output": {
       "arguments": {},
       "data": "",
       "errorSummary": "",
       "errorTraceType": null,
       "metadata": {},
       "type": "ipynbError"
      }
     },
     "output_type": "display_data"
    }
   ],
   "source": []
  },
  {
   "cell_type": "code",
   "execution_count": 0,
   "metadata": {
    "application/vnd.databricks.v1+cell": {
     "inputWidgets": {},
     "nuid": "3fe7e4bb-fe04-4769-9dc5-4b498a5bb1c0",
     "showTitle": false,
     "title": ""
    }
   },
   "outputs": [
    {
     "data": {
      "text/html": [
       "<style scoped>\n",
       "  .ansiout {\n",
       "    display: block;\n",
       "    unicode-bidi: embed;\n",
       "    white-space: pre-wrap;\n",
       "    word-wrap: break-word;\n",
       "    word-break: break-all;\n",
       "    font-family: \"Source Code Pro\", \"Menlo\", monospace;;\n",
       "    font-size: 13px;\n",
       "    color: #555;\n",
       "    margin-left: 4px;\n",
       "    line-height: 19px;\n",
       "  }\n",
       "</style>"
      ]
     },
     "metadata": {
      "application/vnd.databricks.v1+output": {
       "arguments": {},
       "data": "",
       "errorSummary": "",
       "errorTraceType": null,
       "metadata": {},
       "type": "ipynbError"
      }
     },
     "output_type": "display_data"
    }
   ],
   "source": []
  }
 ],
 "metadata": {
  "application/vnd.databricks.v1+notebook": {
   "dashboards": [],
   "language": "python",
   "notebookMetadata": {
    "pythonIndentUnit": 2
   },
   "notebookName": "verimaratonusparkexam2",
   "notebookOrigID": 3236903451238640,
   "widgets": {}
  },
  "kernelspec": {
   "display_name": "Python 3 (ipykernel)",
   "language": "python",
   "name": "python3"
  },
  "language_info": {
   "codemirror_mode": {
    "name": "ipython",
    "version": 3
   },
   "file_extension": ".py",
   "mimetype": "text/x-python",
   "name": "python",
   "nbconvert_exporter": "python",
   "pygments_lexer": "ipython3",
   "version": "3.10.9"
  }
 },
 "nbformat": 4,
 "nbformat_minor": 1
}
